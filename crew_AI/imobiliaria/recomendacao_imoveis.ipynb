{
 "cells": [
  {
   "cell_type": "markdown",
   "id": "481e6359",
   "metadata": {},
   "source": [
    "## 📦 Importações e Configuração Inicial\n",
    "\n",
    "Nesta seção, o código importa todas as bibliotecas necessárias para o funcionamento do agente CrewAI, ferramentas externas (como busca e leitura de CSV), além de utilitários como `datetime`, `os`, `dotenv` e módulos do LangChain.\n",
    "\n",
    "Isso prepara o ambiente com tudo que será usado nas próximas etapas do projeto.\n"
   ]
  },
  {
   "cell_type": "code",
   "execution_count": null,
   "id": "e907d506",
   "metadata": {},
   "outputs": [],
   "source": [
    "import json\n",
    "import os\n",
    "from datetime import datetime, timedelta\n",
    "from crewai import Agent, Task, Crew, Process\n",
    "from crewai_tools import CSVSearchTool\n",
    "from dotenv import load_dotenv, find_dotenv\n",
    "from langchain.tools import Tool\n",
    "from langchain_community.tools import DuckDuckGoSearchResults"
   ]
  },
  {
   "cell_type": "markdown",
   "id": "818be525",
   "metadata": {},
   "source": [
    "## 🤖 Configuração do LLM e Ferramentas de Busca\n",
    "\n",
    "Aqui carregamos as variáveis de ambiente com `load_dotenv()` para usar chaves de API e configuramos o modelo de linguagem `ChatOpenAI`, definindo o modelo, temperatura e limite de tokens.\n",
    "\n",
    "Também inicializamos a ferramenta de busca `DuckDuckGoSearchResults`, que poderá ser usada pelo agente para obter informações atualizadas da internet.\n"
   ]
  },
  {
   "cell_type": "code",
   "execution_count": null,
   "id": "044a031f",
   "metadata": {},
   "outputs": [],
   "source": [
    "from langchain_openai import ChatOpenAI\n",
    "\n",
    "load_dotenv(find_dotenv())\n",
    "llm = ChatOpenAI(model=\"gpt-3.5-turbo-0125\") # temperature=0)\n",
    "search_tool = DuckDuckGoSearchResults()"
   ]
  },
  {
   "cell_type": "markdown",
   "id": "bba1dc1c",
   "metadata": {},
   "source": [
    "## 🏠 Geração de Banco de Dados Fictício (CSV de Imóveis)\n",
    "\n",
    "Este trecho de código gera um arquivo CSV com dados simulados de imóveis para uma imobiliária fictícia.\n",
    "\n",
    "- **Endereços, tipos de imóvel e características** são aleatoriamente gerados.\n",
    "- O arquivo é salvo em `files/imoveis.csv` com colunas como: `ID`, `Endereço`, `Preço`, `Quartos`, `Banheiros`, `Metragem` e `Tipo`.\n",
    "- Isso permite simular um banco de dados que poderá ser consultado por agentes IA.\n",
    "\n",
    "🔧 Útil para testes e desenvolvimento sem depender de dados reais.\n"
   ]
  },
  {
   "cell_type": "markdown",
   "id": "b56e494f",
   "metadata": {},
   "source": [
    "## 🔍 Integração do Agente com o CSV (Base de Imóveis)\n",
    "\n",
    "Nesta etapa, a ferramenta `CSVSearchTool` é usada para permitir que o agente IA consulte dados diretamente do arquivo `imoveis.csv`.\n",
    "\n",
    "Com isso, o agente pode realizar buscas como:\n",
    "- \"Quais imóveis têm mais de 3 quartos?\"\n",
    "- \"Liste casas abaixo de 500 mil reais\"\n",
    "\n",
    "📌 Isso transforma o CSV em uma **fonte de dados ativa** para tomada de decisão ou resposta a perguntas.\n"
   ]
  },
  {
   "cell_type": "code",
   "execution_count": null,
   "id": "a1857a31",
   "metadata": {},
   "outputs": [],
   "source": [
    "csv_imoveis = CSVSearchTool(csv=\"files/imoveis.csv\")"
   ]
  },
  {
   "cell_type": "markdown",
   "id": "9baee595",
   "metadata": {},
   "source": [
    "## 🧑‍💼 Definição do Agente: Corretor de Imóveis\n",
    "\n",
    "Este agente representa um corretor especializado, com a missão de:\n",
    "- **Entender as preferências do cliente**\n",
    "- **Buscar imóveis compatíveis** no arquivo `imoveis.csv` (usando `CSVSearchTool`)\n",
    "\n",
    "### ⚙️ Configurações do agente:\n",
    "- **role:** Define o papel (Corretor de Imóveis)\n",
    "- **goal:** Descreve o objetivo final do agente\n",
    "- **backstory:** Dá contexto e especialização ao comportamento do agente\n",
    "- **tools:** Integração com o CSV para fazer buscas nos imóveis\n",
    "- **verbose:** Mostra o processo de raciocínio do agente passo a passo\n",
    "- **max_iter:** Número máximo de iterações para alcançar o objetivo\n",
    "- **allow_delegation:** `False` porque esse agente trabalha sozinho\n",
    "- **memory:** `True`, o agente pode lembrar informações da conversa anterior\n",
    "\n",
    "🧩 Este agente é uma peça essencial no sistema, atuando diretamente na simulação de atendimento imobiliário inteligente.\n"
   ]
  },
  {
   "cell_type": "code",
   "execution_count": null,
   "id": "b59f0ec7",
   "metadata": {},
   "outputs": [],
   "source": [
    "# Corretor de Imóveis\n",
    "corretor_imoveis = Agent(\n",
    "    role=\"Corretor de Imóveis\",\n",
    "    goal=\"Obtenha as preferencias do cliente e busque imóveis compativeis no banco de dados.\",\n",
    "    backstory=\"Especialista no mercado imobiliário, encontra as melhores opções baseadas nas preferências do cliente.\",\n",
    "    verbose=True,\n",
    "    max_iter=5,\n",
    "    tools=[csv_imoveis],\n",
    "    allow_delegation=False,\n",
    "    memory=True,\n",
    ")\n"
   ]
  },
  {
   "cell_type": "markdown",
   "id": "602d191f",
   "metadata": {},
   "source": [
    "## 🔎 Tarefa: Buscar Imóveis Conforme Preferências do Cliente\n",
    "\n",
    "Esta tarefa define o que o agente \"Corretor de Imóveis\" deve executar. O foco está em localizar imóveis que:\n",
    "\n",
    "- Se encaixem nas **preferências do cliente**\n",
    "- Levem em conta **preço**, **localização** e **tipo de imóvel**\n",
    "\n",
    "### 🧾 Detalhes da tarefa:\n",
    "- **description:** Enunciado que orienta a missão do agente\n",
    "- **expected_output:** Resultado esperado: uma **lista com detalhes relevantes dos imóveis encontrados**\n",
    "- **agent:** O agente encarregado (neste caso, `corretor_imoveis`)\n",
    "- **verbose:** Ativo para mostrar o raciocínio passo a passo durante a execução\n",
    "\n",
    "🔧 Essa tarefa direciona a atuação do agente para um objetivo específico dentro da simulação de atendimento.\n"
   ]
  },
  {
   "cell_type": "code",
   "execution_count": null,
   "id": "45416d78",
   "metadata": {},
   "outputs": [],
   "source": [
    "# Tarefa de Buscar Imóveis\n",
    "buscar_imoveis = Task(\n",
    "    description=\"Busque imóveis que atendam às preferências do cliente, consideranbdo o preço, localização e tipo de imóvel.\",\n",
    "    expected_output=\"Lista de imoveis disponíveis com detalhes sobre localização, preço e características.\",\n",
    "    agent=corretor_imoveis,\n",
    "    verbose=True,\n",
    ")"
   ]
  },
  {
   "cell_type": "markdown",
   "id": "a3046c4b",
   "metadata": {},
   "source": [
    "## 📊 Ferramenta Personalizada: Analisador de Preço de Imóveis\n",
    "\n",
    "Nesta seção é criada uma ferramenta customizada (`PrecoImoveisTool`) que permite ao agente consultar tendências de preço no mercado imobiliário.\n",
    "\n",
    "### 🔧 Componentes:\n",
    "- **Função `obter_preco_imoveis(cidade)`**:\n",
    "  - Retorna uma tendência (`aumento`, `estável`, ou `queda`) e um percentual médio com base na cidade informada.\n",
    "  - Se a cidade não for reconhecida, retorna os dados \"gerais\".\n",
    "\n",
    "- **Classe `PrecoImoveisTool` (herda de `BaseTool`)**:\n",
    "  - **name:** Nome da ferramenta exibido ao agente.\n",
    "  - **description:** Explica o propósito da ferramenta.\n",
    "  - **_run(cidade):** Método principal que executa a análise de tendência.\n",
    "\n",
    "### 🎯 Finalidade:\n",
    "Permitir que o agente IA:\n",
    "- Ofereça insights atualizados de mercado\n",
    "- Enriqueça a conversa com o cliente\n",
    "- Fundamente melhor suas recomendações\n",
    "\n",
    "📌 Ideal para contextos onde se deseja simular um corretor mais **estratégico e analítico**.\n",
    "\n",
    "## 📈 Ferramenta Personalizada: Analisador de Preço de Imóveis\n",
    "\n",
    "Esta ferramenta (`PrecoImoveisTool`) é uma classe baseada em `BaseTool` da CrewAI, que permite a um agente consultar a **tendência atual de preços** do mercado imobiliário em uma cidade específica.\n",
    "\n"
   ]
  },
  {
   "cell_type": "code",
   "execution_count": null,
   "id": "a1a1b925",
   "metadata": {},
   "outputs": [],
   "source": [
    "from crewai.tools import BaseTool\n",
    "\n",
    "def obter_preco_imoveis(cidade: str = \"geral\"):\n",
    "    preços= {\n",
    "        \"São Paulo\": {\"tendencia\":\"aumento\", \"percentual\": 5.2},\n",
    "        \"Rio de Janeiro\": {\"tendencia\":\"estavel\", \"percentual\": 0.0},\n",
    "        \"Belo Horizonte\": {\"tendencia\":\"queda\", \"percentual\": -3.1},\n",
    "        \"Curitiba\": {\"tendencia\":\"queda\", \"percentual\": -2.5},\n",
    "        \"geral\": {\"tendencia\":\"aumento\", \"percentual\": 4.0},\n",
    "    }\n",
    "    return preços.get(cidade, preços[\"geral\"])\n",
    "\n",
    "class PrecoImoveisTool(BaseTool):\n",
    "    name: str = \"Analisador de Preço de Imóveis\"\n",
    "    description: str = \"Retorna a tendencia de preço dos imóveis em uma cidade específica ou no geral.\"\n",
    "    \n",
    "    def _run(self, cidade: str) -> dict:\n",
    "        \"\"\"\n",
    "        Executa a analise de preços imobiliarios e retorna a tendencia com base na cidade.\n",
    "        \"\"\"\n",
    "        try:\n",
    "            return obter_preco_imoveis(cidade)\n",
    "        except Exception as e:\n",
    "            return {\"error\": f\"Erro ao obter tendencias de preços {str(e)}\"}"
   ]
  },
  {
   "cell_type": "markdown",
   "id": "91b98c77",
   "metadata": {},
   "source": [
    "## 📈 Agente: Analista de Mercado Imobiliário\n",
    "\n",
    "Este agente é responsável por analisar **tendências e variações de preços** no setor imobiliário, com base em dados por região.\n",
    "\n",
    "### ⚙️ Parâmetros configurados:\n",
    "- **role:** Define o papel do agente (Analista de Mercado Imobiliário)\n",
    "- **goal:** Objetivo principal é analisar preços por região\n",
    "- **backstory:** Contextualiza o agente como um especialista em comportamento do mercado imobiliário\n",
    "- **verbose:** Ativo para exibir os passos de raciocínio\n",
    "- **max_iter:** Até 5 iterações para alcançar seu objetivo\n",
    "- **allow_delegation:** `False`, o agente atua de forma independente\n",
    "- **memory:** `True`, o agente pode lembrar informações durante a execução\n",
    "\n",
    "### 📌 Observação:\n",
    "- A ferramenta `PrecoImoveisTool` está comentada no momento.\n",
    "- Para ativá-la, basta descomentar a linha `tools=[PrecoImoveisTool()]`.\n",
    "\n",
    "🔍 Este agente é ideal para oferecer **contexto de mercado** ao cliente ou ao corretor, com foco estratégico.\n"
   ]
  },
  {
   "cell_type": "code",
   "execution_count": null,
   "id": "01a6dde2",
   "metadata": {},
   "outputs": [],
   "source": [
    "analista_mercado = Agent(\n",
    "    role=\"Analista de Mercado Imobiliário\",\n",
    "    goal=\"Analisa as tendências de preços dos imóveis em diferentes regiões.\",\n",
    "    backstory=\"Especialista em análise de mercado, fornece insights sobre tendências e variações de preços.\",\n",
    "    verbose=True,\n",
    "    max_iter=5,\n",
    "    # tools=[PrecoImoveisTool()], usado na TASK\n",
    "    allow_delegation=False,\n",
    "    memory=True,\n",
    ")"
   ]
  },
  {
   "cell_type": "markdown",
   "id": "cdbac7fc",
   "metadata": {},
   "source": [
    "## 🧩 Seção 8 - Tarefa de Análise de Tendências do Mercado Imobiliário\n",
    "\n",
    "### 🔍 `obter_tendencias` (Task)\n",
    "Esta tarefa é atribuída ao **agente Analista de Mercado Imobiliário** e tem como objetivo analisar as tendências de preço dos imóveis com base em parâmetros específicos.\n"
   ]
  },
  {
   "cell_type": "code",
   "execution_count": null,
   "id": "586c9c30",
   "metadata": {},
   "outputs": [],
   "source": [
    "obter_tendencias = Task(\n",
    "    description=\"\"\"\n",
    "    Analise o historico de preços de imóveis na cidade {cidade} e forneça insights sobre valorização ou desvalorização.\n",
    "    Considere o tipo de imóvel {tipo_imovel} e a faixa de preço {faixa_preco}.\n",
    "    \"\"\",\n",
    "    expected_output=\"Resumo da tendência dos preços no mercado imobiliário.\",\n",
    "    tools=[PrecoImoveisTool()],\n",
    "    agent=analista_mercado,\n",
    "    parameters=[\"cidade\"],\n",
    "    verbose=True,\n",
    ")"
   ]
  },
  {
   "cell_type": "markdown",
   "id": "169b9001",
   "metadata": {},
   "source": [
    "## 📉 Analista de Notícias Imobiliárias\n",
    "\n",
    "### 🧾 Descrição do Agente `analista_noticias`\n",
    "- **Papel:** Analista de Notícias imobiliárias.\n",
    "- **Objetivo:** Analisar as notícias mais recentes relacionadas ao mercado imobiliário para avaliar fatores externos que podem impactar o setor.\n",
    "- **Histórico:** Especialista em análise de notícias, fornecendo insights sobre eventos que influenciam o mercado imobiliário.\n",
    "- **Configurações:** `verbose=True` para detalhamento das operações, `max_iter=5` para limitar iterações e `memory=True` para manter contexto entre interações.\n",
    "\n",
    "### 🔎Ferramenta de Busca `search_tool`\n",
    "### 🛠️Aplicando a ferramenta de Busca `search_tool`\n",
    "- Utiliza o backend `\"news\"` do DuckDuckGo para buscar as 5 notícias mais recentes relacionadas ao mercado imobiliário.\n",
    "\n",
    "### 📝Tarefa `buscar_noticias`\n",
    "- **Descrição:** Pesquisa notícias recentes sobre o mercado imobiliário (incluindo a data atual).\n",
    "- **Resultado Esperado:** Resumo das principais notícias e tendências do mercado imobiliário.\n",
    "- **Agente Responsável:** `analista_noticias`.\n",
    "- **Ferramenta Usada:** `search_tool` para coleta de informações atuais da web.\n",
    "\n",
    "### Observação\n",
    "A combinação do agente com a ferramenta de busca permite que o sistema integre dados dinâmicos e atualizados, aumentando a relevância e precisão das análises.\n"
   ]
  },
  {
   "cell_type": "code",
   "execution_count": null,
   "id": "3271514d",
   "metadata": {},
   "outputs": [],
   "source": [
    "analista_noticias = Agent(\n",
    "    role=\"Analista de Notícias imobiliarias\",\n",
    "    goal=\"Analisa as notícias mais recentes relacionadas ao mercado imobiliário., para avaliar fatores externos\",\n",
    "    backstory=\"Especialista em análise de notícias, fornece insights sobre eventos que podem impactar o mercado imobiliário.\",\n",
    "    verbose=True,\n",
    "    max_iter=5,\n",
    "    memory=True,\n",
    ")"
   ]
  },
  {
   "cell_type": "code",
   "execution_count": null,
   "id": "fe880026",
   "metadata": {},
   "outputs": [],
   "source": [
    "search_tool = DuckDuckGoSearchResults(backend=\"news\", num_results=5)"
   ]
  },
  {
   "cell_type": "code",
   "execution_count": null,
   "id": "0bb8bd9f",
   "metadata": {},
   "outputs": [],
   "source": [
    "search_tool"
   ]
  },
  {
   "cell_type": "code",
   "execution_count": null,
   "id": "208fa66c",
   "metadata": {},
   "outputs": [],
   "source": [
    "buscar_noticias = Task(\n",
    "    description=f\"Pesquise noticias recentes sobre o mercado imomiliario. Data atual: {datetime.now()}.\",\n",
    "    expected_output=\"Resumo das principais noticias e tendências imobiliárias.\",\n",
    "    agent=analista_noticias,\n",
    "    tool = [search_tool],\n",
    ")"
   ]
  },
  {
   "cell_type": "markdown",
   "id": "6ddd5f3e",
   "metadata": {},
   "source": [
    "# 🧠 Agente Consultor Financeiro\n",
    "\n",
    "### 🧾Descrição do Agente `consultor_financeiro`\n",
    "- **🧑‍💼 Papel:** Consultor Financeiro\n",
    "- **🎯 Objetivo:** Analisar a viabilidade financeira de um investimento imobiliário com base no perfil do cliente.\n",
    "- **📚 Histórico:** Especialista em crédito imobiliário, com foco em auxiliar clientes na escolha das melhores opções de financiamento disponíveis no mercado.\n",
    "  \n",
    "### ⚙️ Configurações do Agente:\n",
    "- **`verbose=True`**: Exibe detalhes do processo durante a execução, útil para depuração e acompanhamento.\n",
    "- **`allow_delegation=False`**: Não permite que o agente delegue tarefas para outros agentes.\n",
    "- **`max_iter=5`**: Limita o número máximo de iterações para alcançar a resposta.\n",
    "- **`memory=True`**: Habilita memória para manter o contexto das interações anteriores com o agente.\n",
    "\n",
    "### 📝 Finalidade\n",
    "Este agente simula um consultor financeiro pessoal, que leva em consideração a situação econômica do cliente e os custos envolvidos no financiamento de imóveis, fornecendo uma análise fundamentada e orientações úteis.\n"
   ]
  },
  {
   "cell_type": "code",
   "execution_count": null,
   "id": "76c46c52",
   "metadata": {},
   "outputs": [],
   "source": [
    "consultor_financeiro = Agent(\n",
    "    role=\"Consultor Financeiro\",\n",
    "    goal=\"Analisa a viabilidade financeira de um investimento imobiliário, com base no perfil do cliente.\",\n",
    "    backstory=\"Especialista em credito imobiliário, ajuda clientes a escolherem as melhores opções de financiamento.\",\n",
    "    verbose=True,\n",
    "    allow_delegation=False,\n",
    "    max_iter=5,\n",
    "    memory=True,\n",
    ")"
   ]
  },
  {
   "cell_type": "code",
   "execution_count": null,
   "id": "af92078c",
   "metadata": {},
   "outputs": [],
   "source": [
    "calcular_financiamento = Task(\n",
    "    description=\"Consultor Financeiro\",\n",
    "    expected_output=\"Analisa a viabilidade financeira de um investimento imobiliário, com base no perfil do cliente.\",\n",
    "    agent=consultor_financeiro,\n",
    ")"
   ]
  },
  {
   "cell_type": "markdown",
   "id": "bb552c7f",
   "metadata": {},
   "source": [
    "## 🧠Agente Redator de Relatórios Imobiliários\n",
    "\n",
    "### 🧑‍💻 Agente: `redator`\n",
    "- **📝 Papel:** Redator de Relatórios Imobiliários\n",
    "- **🎯 Objetivo:** Gerar relatórios completos, claros e persuasivos com base em análises de mercado e imóveis selecionados.\n",
    "- **📚 Histórico:** Profissional de comunicação especializado em traduzir dados complexos do mercado imobiliário para uma linguagem acessível aos clientes.\n",
    "\n",
    "### ⚙️ Configurações do Agente:\n",
    "- **`verbose=True`**: Exibe detalhes do processo durante a execução.\n",
    "- **`allow_delegation=False`**: O agente não pode delegar tarefas a outros agentes.\n",
    "- **`max_iter=5`**: Número máximo de iterações permitido.\n",
    "- **`memory=True`**: Mantém o contexto das interações anteriores, permitindo coerência nas respostas.\n",
    "\n",
    "---\n",
    "\n",
    "## 📝Tarefa: `gerar_relatorio`\n",
    "- **📄 Descrição:** Gerar um relatório detalhado sobre o melhor imóvel encontrado, considerando preços, tendências de mercado e possibilidades de financiamento.\n",
    "- **🎯 Saída Esperada:** Um relatório formatado contendo:\n",
    "  - Resumo do mercado\n",
    "  - Opções recomendadas\n",
    "  - Justificativas da escolha\n",
    "\n",
    "### 🔗 Contexto Utilizado:\n",
    "- `buscar_imoveis`: Imóveis encontrados com base nas preferências do cliente.\n",
    "- `obter_tendencias`: Análise de tendências do mercado imobiliário.\n",
    "- `buscar_noticias`: Notícias recentes que impactam o setor.\n",
    "- `calcular_financiamento`: Análise de viabilidade financeira para aquisição do imóvel.\n",
    "\n",
    "### 🎯 Finalidade:\n",
    "Transformar todos os dados e análises do processo em um relatório final bem estruturado e convincente, pronto para apresentação ao cliente.\n"
   ]
  },
  {
   "cell_type": "code",
   "execution_count": null,
   "id": "b2fbd84a",
   "metadata": {},
   "outputs": [],
   "source": [
    "redator = Agent(\n",
    "    role=\"Redator de Relatórios Imobiliários\",\n",
    "    goal=\"Gera um relatório completo e persuasivo com base nas análises de mercado e imóveis encontrados.\",\n",
    "    backstory=\"Especialista em comunicação, traduz dados complexos para clientes de forma clara e objetiva.\",\n",
    "    verbose=True,\n",
    "    allow_delegation=False,\n",
    "    max_iter=5,\n",
    "    memory=True,\n",
    ")"
   ]
  },
  {
   "cell_type": "code",
   "execution_count": 189,
   "id": "8301f03e",
   "metadata": {},
   "outputs": [],
   "source": [
    "gerar_relatorio = Task(\n",
    "    description=\"Gere um relatório detalhado sobre o melhor imóvel encontrado, considerando preços, tendências e financiamento.\",\n",
    "    expected_output=\"Relatório formatado com resumo do mercado, opções recomendads e justificativas da escolha, com tabelas para serem comparadas a outras opções.\",\n",
    "    agents=redator,\n",
    "    context=[buscar_imoveis, obter_tendencias, buscar_noticias, calcular_financiamento],\n",
    ")"
   ]
  },
  {
   "cell_type": "markdown",
   "id": "043d6cec",
   "metadata": {},
   "source": [
    "# reunir agentes (CREW)"
   ]
  },
  {
   "cell_type": "code",
   "execution_count": null,
   "id": "5501ae89",
   "metadata": {},
   "outputs": [],
   "source": [
    "crew = Crew(\n",
    "    agents=[corretor_imoveis, analista_mercado, analista_noticias, consultor_financeiro, redator],\n",
    "    tasks=[buscar_imoveis, obter_tendencias, buscar_noticias, calcular_financiamento, gerar_relatorio],\n",
    "    verbose=True,\n",
    "    process=Process.hierarchical,\n",
    "    full_output=True,\n",
    "    share_crew=False,\n",
    "    max_iter=5,\n",
    "    manager_llm=llm,\n",
    ")"
   ]
  },
  {
   "cell_type": "code",
   "execution_count": null,
   "id": "c60dc46b",
   "metadata": {},
   "outputs": [],
   "source": [
    "result = crew.kickoff(inputs={\"cidade\": \"São Paulo\", \"tipo_imovel\": \"apartamento\", \"faixa_preco\": \"500000-700000\"})"
   ]
  },
  {
   "cell_type": "code",
   "execution_count": null,
   "id": "ce43a6d4-6f78-435b-9000-2dc30481315f",
   "metadata": {},
   "outputs": [],
   "source": [
    "print(result.raw)"
   ]
  },
  {
   "cell_type": "code",
   "execution_count": null,
   "id": "422f51bf-aa68-4243-b130-b09aad95ca2e",
   "metadata": {},
   "outputs": [],
   "source": [
    "from IPython.display import display, Markdown"
   ]
  },
  {
   "cell_type": "code",
   "execution_count": null,
   "id": "d63c87d7-e060-416a-b36a-734090965906",
   "metadata": {},
   "outputs": [],
   "source": [
    "display(Markdown(str(result)))"
   ]
  }
 ],
 "metadata": {
  "kernelspec": {
   "display_name": "Python 3 (ipykernel)",
   "language": "python",
   "name": "python3"
  },
  "language_info": {
   "codemirror_mode": {
    "name": "ipython",
    "version": 3
   },
   "file_extension": ".py",
   "mimetype": "text/x-python",
   "name": "python",
   "nbconvert_exporter": "python",
   "pygments_lexer": "ipython3",
   "version": "3.11.9"
  }
 },
 "nbformat": 4,
 "nbformat_minor": 5
}
