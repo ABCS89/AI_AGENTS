{
 "cells": [
  {
   "cell_type": "markdown",
   "id": "481e6359",
   "metadata": {},
   "source": [
    "## 📦 Importações e Configuração Inicial\n",
    "\n",
    "Nesta seção, o código importa todas as bibliotecas necessárias para o funcionamento do agente CrewAI, ferramentas externas (como busca e leitura de CSV), além de utilitários como `datetime`, `os`, `dotenv` e módulos do LangChain.\n",
    "\n",
    "Isso prepara o ambiente com tudo que será usado nas próximas etapas do projeto.\n"
   ]
  },
  {
   "cell_type": "code",
   "execution_count": 7,
   "id": "e907d506",
   "metadata": {},
   "outputs": [],
   "source": [
    "import json\n",
    "import os\n",
    "from datetime import datetime, timedelta\n",
    "from crewai import Agent, Task, Crew, Process\n",
    "from crewai_tools import CSVSearchTool\n",
    "from dotenv import load_dotenv, find_dotenv\n",
    "from langchain.tools import Tool\n",
    "from langchain_community.tools import DuckDuckGoSearchResults"
   ]
  },
  {
   "cell_type": "markdown",
   "id": "818be525",
   "metadata": {},
   "source": [
    "## 🤖 Configuração do LLM e Ferramentas de Busca\n",
    "\n",
    "Aqui carregamos as variáveis de ambiente com `load_dotenv()` para usar chaves de API e configuramos o modelo de linguagem `ChatOpenAI`, definindo o modelo, temperatura e limite de tokens.\n",
    "\n",
    "Também inicializamos a ferramenta de busca `DuckDuckGoSearchResults`, que poderá ser usada pelo agente para obter informações atualizadas da internet.\n"
   ]
  },
  {
   "cell_type": "code",
   "execution_count": 8,
   "id": "044a031f",
   "metadata": {},
   "outputs": [],
   "source": [
    "from langchain_openai import ChatOpenAI\n",
    "\n",
    "load_dotenv(find_dotenv())\n",
    "llm = ChatOpenAI(model=\"gpt-3.5-turbo\", temperature=0)\n",
    "search_tool = DuckDuckGoSearchResults()"
   ]
  },
  {
   "cell_type": "markdown",
   "id": "bba1dc1c",
   "metadata": {},
   "source": [
    "## 🏠 Geração de Banco de Dados Fictício (CSV de Imóveis)\n",
    "\n",
    "Este trecho de código gera um arquivo CSV com dados simulados de imóveis para uma imobiliária fictícia.\n",
    "\n",
    "- **Endereços, tipos de imóvel e características** são aleatoriamente gerados.\n",
    "- O arquivo é salvo em `files/imoveis.csv` com colunas como: `ID`, `Endereço`, `Preço`, `Quartos`, `Banheiros`, `Metragem` e `Tipo`.\n",
    "- Isso permite simular um banco de dados que poderá ser consultado por agentes IA.\n",
    "\n",
    "🔧 Útil para testes e desenvolvimento sem depender de dados reais.\n"
   ]
  },
  {
   "cell_type": "markdown",
   "id": "b56e494f",
   "metadata": {},
   "source": [
    "## 🔍 Integração do Agente com o CSV (Base de Imóveis)\n",
    "\n",
    "Nesta etapa, a ferramenta `CSVSearchTool` é usada para permitir que o agente IA consulte dados diretamente do arquivo `imoveis.csv`.\n",
    "\n",
    "Com isso, o agente pode realizar buscas como:\n",
    "- \"Quais imóveis têm mais de 3 quartos?\"\n",
    "- \"Liste casas abaixo de 500 mil reais\"\n",
    "\n",
    "📌 Isso transforma o CSV em uma **fonte de dados ativa** para tomada de decisão ou resposta a perguntas.\n"
   ]
  },
  {
   "cell_type": "code",
   "execution_count": 9,
   "id": "a1857a31",
   "metadata": {},
   "outputs": [
    {
     "name": "stderr",
     "output_type": "stream",
     "text": [
      "Inserting batches in chromadb: 100%|██████████| 1/1 [00:03<00:00,  3.68s/it]\n"
     ]
    }
   ],
   "source": [
    "csv_imoveis = CSVSearchTool(csv=\"files/imoveis.csv\")"
   ]
  },
  {
   "cell_type": "markdown",
   "id": "9baee595",
   "metadata": {},
   "source": [
    "## 🧑‍💼 Definição do Agente: Corretor de Imóveis\n",
    "\n",
    "Este agente representa um corretor especializado, com a missão de:\n",
    "- **Entender as preferências do cliente**\n",
    "- **Buscar imóveis compatíveis** no arquivo `imoveis.csv` (usando `CSVSearchTool`)\n",
    "\n",
    "### ⚙️ Configurações do agente:\n",
    "- **role:** Define o papel (Corretor de Imóveis)\n",
    "- **goal:** Descreve o objetivo final do agente\n",
    "- **backstory:** Dá contexto e especialização ao comportamento do agente\n",
    "- **tools:** Integração com o CSV para fazer buscas nos imóveis\n",
    "- **verbose:** Mostra o processo de raciocínio do agente passo a passo\n",
    "- **max_iter:** Número máximo de iterações para alcançar o objetivo\n",
    "- **allow_delegation:** `False` porque esse agente trabalha sozinho\n",
    "- **memory:** `True`, o agente pode lembrar informações da conversa anterior\n",
    "\n",
    "🧩 Este agente é uma peça essencial no sistema, atuando diretamente na simulação de atendimento imobiliário inteligente.\n"
   ]
  },
  {
   "cell_type": "code",
   "execution_count": 10,
   "id": "b59f0ec7",
   "metadata": {},
   "outputs": [],
   "source": [
    "# Corretor de Imóveis\n",
    "corretor_imoveis = Agent(\n",
    "    role=\"Corretor de Imóveis\",\n",
    "    goal=\"Obtenha as preferencias do cliente e busque imóveis compativeis no banco de dados.\",\n",
    "    backstory=\"Especialista no mercado imobiliário, encontra as melhores opções baseadas nas preferências do cliente.\",\n",
    "    verbose=True,\n",
    "    max_iter=5,\n",
    "    tools=[csv_imoveis],\n",
    "    allow_delegation=False,\n",
    "    memory=True,\n",
    ")\n"
   ]
  },
  {
   "cell_type": "markdown",
   "id": "602d191f",
   "metadata": {},
   "source": [
    "## 🔎 Tarefa: Buscar Imóveis Conforme Preferências do Cliente\n",
    "\n",
    "Esta tarefa define o que o agente \"Corretor de Imóveis\" deve executar. O foco está em localizar imóveis que:\n",
    "\n",
    "- Se encaixem nas **preferências do cliente**\n",
    "- Levem em conta **preço**, **localização** e **tipo de imóvel**\n",
    "\n",
    "### 🧾 Detalhes da tarefa:\n",
    "- **description:** Enunciado que orienta a missão do agente\n",
    "- **expected_output:** Resultado esperado: uma **lista com detalhes relevantes dos imóveis encontrados**\n",
    "- **agent:** O agente encarregado (neste caso, `corretor_imoveis`)\n",
    "- **verbose:** Ativo para mostrar o raciocínio passo a passo durante a execução\n",
    "\n",
    "🔧 Essa tarefa direciona a atuação do agente para um objetivo específico dentro da simulação de atendimento.\n"
   ]
  },
  {
   "cell_type": "code",
   "execution_count": null,
   "id": "45416d78",
   "metadata": {},
   "outputs": [],
   "source": [
    "# Tarefa de Buscar Imóveis\n",
    "buscador_imoveis = Task(\n",
    "    description=\"Busque imóveis que atendam às preferências do cliente, consideranbdo o preço, localização e tipo de imóvel.\",\n",
    "    expected_output=\"Lista de imoveis disponíveis com detalhes sobre localização, preço e características.\",\n",
    "    agent=corretor_imoveis,\n",
    "    verbose=True,\n",
    ")"
   ]
  },
  {
   "cell_type": "markdown",
   "id": "6b23d887",
   "metadata": {},
   "source": [
    "## 📈 Ferramenta Personalizada: Analisador de Preço de Imóveis\n",
    "\n",
    "Esta ferramenta (`PrecoImoveisTool`) é uma classe baseada em `BaseTool` da CrewAI, que permite a um agente consultar a **tendência atual de preços** do mercado imobiliário em uma cidade específica.\n",
    "\n",
    "### 🔍 Função Auxiliar:\n",
    "```python\n",
    "def obter_preco_imoveis(cidade: str = \"geral\"):\n"
   ]
  },
  {
   "cell_type": "markdown",
   "id": "a3046c4b",
   "metadata": {},
   "source": [
    "## 🛠️ Seção 7 - Ferramenta Personalizada de Análise de Preços\n",
    "\n",
    "### 📉 Função auxiliar: `obter_preco_imoveis`\n",
    "\n",
    "Esta função retorna uma tendência de preço com base em uma cidade específica:\n",
    "\n",
    "```python\n",
    "def obter_preco_imoveis(cidade: str = \"geral\"):\n",
    "    preços = {\n",
    "        \"São Paulo\": {\"tendencia\": \"aumento\", \"percentual\": 5.2},\n",
    "        \"Rio de Janeiro\": {\"tendencia\": \"estavel\", \"percentual\": 0.0},\n",
    "        \"Belo Horizonte\": {\"tendencia\": \"queda\", \"percentual\": -3.1},\n",
    "        \"Curitiba\": {\"tendencia\": \"queda\", \"percentual\": -2.5},\n",
    "        \"geral\": {\"tendencia\": \"aumento\", \"percentual\": 4.0},\n",
    "    }\n",
    "    return preços.get(cidade, preços[\"geral\"])"
   ]
  },
  {
   "cell_type": "code",
   "execution_count": 16,
   "id": "a1a1b925",
   "metadata": {},
   "outputs": [],
   "source": [
    "from crewai.tools import BaseTool\n",
    "\n",
    "def obter_preco_imoveis(cidade: str = \"geral\"):\n",
    "    preços= {\n",
    "        \"São Paulo\": {\"tendencia\":\"aumento\", \"percentual\": 5.2},\n",
    "        \"Rio de Janeiro\": {\"tendencia\":\"estavel\", \"percentual\": 0.0},\n",
    "        \"Belo Horizonte\": {\"tendencia\":\"queda\", \"percentual\": -3.1},\n",
    "        \"Curitiba\": {\"tendencia\":\"queda\", \"percentual\": -2.5},\n",
    "        \"geral\": {\"tendencia\":\"aumento\", \"percentual\": 4.0},\n",
    "    }\n",
    "    return preços.get(cidade, preços[\"geral\"])\n",
    "\n",
    "class PrecoImoveisTool(BaseTool):\n",
    "    name: str = \"Analisador de Preço de Imóveis\"\n",
    "    description: str = \"Retorna a tendencia de preço dos imóveis em uma cidade específica ou no geral.\"\n",
    "    \n",
    "    def _run(self, cidade: str) -> dict:\n",
    "        \"\"\"\n",
    "        Executa a analise de preços imobiliarios e retorna a tendencia com base na cidade.\n",
    "        \"\"\"\n",
    "        try:\n",
    "            return obter_preco_imoveis(cidade)\n",
    "        except Exception as e:\n",
    "            return {\"error\": f\"Erro ao obter tendencias de preços {str(e)}\"}"
   ]
  }
 ],
 "metadata": {
  "kernelspec": {
   "display_name": ".venv",
   "language": "python",
   "name": "python3"
  },
  "language_info": {
   "codemirror_mode": {
    "name": "ipython",
    "version": 3
   },
   "file_extension": ".py",
   "mimetype": "text/x-python",
   "name": "python",
   "nbconvert_exporter": "python",
   "pygments_lexer": "ipython3",
   "version": "3.11.9"
  }
 },
 "nbformat": 4,
 "nbformat_minor": 5
}
