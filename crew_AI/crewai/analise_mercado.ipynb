{
 "cells": [
  {
   "cell_type": "code",
   "execution_count": 19,
   "id": "32b3f037",
   "metadata": {},
   "outputs": [
    {
     "data": {
      "text/plain": [
       "True"
      ]
     },
     "execution_count": 19,
     "metadata": {},
     "output_type": "execute_result"
    }
   ],
   "source": [
    "from dotenv import load_dotenv, find_dotenv\n",
    "load_dotenv(find_dotenv())"
   ]
  },
  {
   "cell_type": "code",
   "execution_count": 20,
   "id": "e1c3d24a",
   "metadata": {},
   "outputs": [],
   "source": [
    "from crewai import Agent, Task, Crew"
   ]
  },
  {
   "cell_type": "markdown",
   "id": "4fe23a5f",
   "metadata": {},
   "source": [
    "### Agentes\n",
    "- Pesquisador de mercado\n",
    "- Analista de Tendências\n",
    "- Redator do Relatório\n"
   ]
  },
  {
   "cell_type": "markdown",
   "id": "86de9d6f",
   "metadata": {},
   "source": [
    "### Configuração de Agents\n",
    "- Role = função do agente\n",
    "- goal = objetivo do trabalho do agente\n",
    "- backstory = estoria para dar função detalhada ao agente\n",
    "- allow_delegation = delegar\n",
    "- verbose = verbaliza - deixar visual no prompt o que o agente está fazendo"
   ]
  },
  {
   "cell_type": "code",
   "execution_count": 21,
   "id": "194b1dd2",
   "metadata": {},
   "outputs": [],
   "source": [
    "pesquisador = Agent(\n",
    "    role=\"Pesquisador de Mercado\",\n",
    "    goal=\"Coletar e organizar informações relevantes sobre {sector}\",\n",
    "    backstory=\"\"\"\n",
    "    Você é um pesquisador de experiente que analiza tendencias de mercado e coleta dados relevantes sobre {sector}.\n",
    "    Seu trabalho é garantir que todas as ionformações estejam atualizadas e bem documentadas.\n",
    "    \"\"\",\n",
    "    allow_delegation=False,\n",
    "    verbose=True,\n",
    ")"
   ]
  },
  {
   "cell_type": "code",
   "execution_count": 22,
   "id": "4cb01cb8",
   "metadata": {},
   "outputs": [],
   "source": [
    "analista = Agent(\n",
    "    role=\"Analista de Tendências\",\n",
    "    goal=\"Analisar os daods do setor {sector} e identificar padrões e oportunidades\",\n",
    "    backstory=\"\"\"\n",
    "    Você é um analista de mercado que examina os dados coletados para identificar tendências emergentes, oportunidades e ameaças no setor {sector}.\n",
    "    \"\"\",\n",
    "    allow_delegation=False,\n",
    "    verbose=True,\n",
    ")"
   ]
  },
  {
   "cell_type": "code",
   "execution_count": 23,
   "id": "e417f50b",
   "metadata": {},
   "outputs": [],
   "source": [
    "redator = Agent(\n",
    "    role=\"Redator de Relatórios\",\n",
    "    goal=\"Elaborar um relatório consolidado sobre a analise de mercado doo setor {sector} com base nas informações coletadas e analisadas\",\n",
    "    backstory=\"\"\"\n",
    "    Você é um redator especializado em criar relatórios detalhados, bem estruturados, informativos e compreensivel sobre mercado, para tomadores de decisão.\n",
    "    Seu trabalho é garantir que o relatório seja claro, conciso e informativo.\n",
    "    \"\"\",\n",
    "    allow_delegation=False,\n",
    "    verbose=True,\n",
    ")"
   ]
  },
  {
   "cell_type": "markdown",
   "id": "405a8437",
   "metadata": {},
   "source": [
    "### Task\n",
    "- description = descrição da tarefa\n",
    "- expected_output = o que o agente vai gerar\n",
    "- expected_format = arquivo a ser gerado (opcional)\n",
    "- agent = selecionar o agente a executar essa tarefa"
   ]
  },
  {
   "cell_type": "code",
   "execution_count": 24,
   "id": "9827720d",
   "metadata": {},
   "outputs": [],
   "source": [
    "coleta_dados = Task(\n",
    "    description=(\n",
    "        \"1. Pesquisar e coletar informações atualizadas sobre o setor {sector}.\"\n",
    "        \"2. Identificar os pirincipais players, tendências e estatisticas do setor.\"\n",
    "        \"3. Organizar os dados de forma clara para análise.\"\n",
    "        \"4. Criar um resumo executivo com os principais achados.\"\n",
    "    ),\n",
    "    expected_output=\"Um documento estrutura contendo as informações coletadas, incluindo dados estatísticos, gráficos e uma análise SWOT do setor {sector}.\",\n",
    "    # expected_format=\"PDF\",\n",
    "    agent=pesquisador\n",
    ")"
   ]
  },
  {
   "cell_type": "code",
   "execution_count": 25,
   "id": "e63a08ff",
   "metadata": {},
   "outputs": [],
   "source": [
    "analise_tendencias = Task(\n",
    "    description=(\n",
    "        \"1. Analisar os dados coletados pelo Pesquisador de Mercado.\"\n",
    "        \"2. Identificar padrões, tendências e oportunidades no setor {sector}.\"\n",
    "        \"3. Criar gráficos e visualizações para apoiar a análise.\"\n",
    "        \"4. Elaborar uma análise detalhada, destacando os principais achados e recomendações.\"\n",
    "        \"5. Criar um resumo executivo com os principais achados.\"\n",
    "    ),\n",
    "    expected_output=\"Um relatório detalhado com a análise das tendências do setor {sector}, incluindo gráficos e visualizações.\",\n",
    "    # expected_format=\"PDF\",\n",
    "    agent=analista\n",
    ")"
   ]
  },
  {
   "cell_type": "code",
   "execution_count": 26,
   "id": "e837a08b",
   "metadata": {},
   "outputs": [],
   "source": [
    "redacao_relatorio = Task(\n",
    "    description=(\n",
    "        \"1. Compilar as informações coletadas e analisadas em um relatório final sobre o setor {sector}.\"\n",
    "        \"2. Estruturar o relatório de forma clara e lógica, incluindo introdução, metodologia, resultados e conclusões.\"\n",
    "        \"3. Garantir que o relatório seja claro, conciso e informativo.\"\n",
    "        \"4. Criar um resumo executivo com os principais achados e recomendações finais.\"\n",
    "    ),\n",
    "    expected_output=\"Um relatório final sobre o setor {sector}, pronto para apresentação aos tomadores de decisão em formato markdown, pornto para leitura e apresentação.\",\n",
    "    # expected_format=\"markdown\",\n",
    "    agent=redator\n",
    ")"
   ]
  },
  {
   "cell_type": "markdown",
   "id": "8e28ed3f",
   "metadata": {},
   "source": [
    "### Daqui para frente usar o Jupyter Notebook"
   ]
  },
  {
   "cell_type": "markdown",
   "id": "1593d6b6",
   "metadata": {},
   "source": [
    "crew = Crew(\n",
    "    agents = [pesquisador, analista, redator],\n",
    "    tasks = [coleta_dados, analise_tendencias, redacao_relatorio],\n",
    "    verbose = True\n",
    ")"
   ]
  },
  {
   "cell_type": "markdown",
   "id": "632758d9",
   "metadata": {},
   "source": [
    "crew"
   ]
  },
  {
   "cell_type": "markdown",
   "id": "a42f36cf",
   "metadata": {},
   "source": [
    "resultado = crew.kickoff(inputs={\"sector\": \"Inteligência Artificial\"})\n",
    "\n",
    "resultado.raw\n"
   ]
  }
 ],
 "metadata": {
  "kernelspec": {
   "display_name": "Python 3 (ipykernel)",
   "language": "python",
   "name": "python3"
  },
  "language_info": {
   "codemirror_mode": {
    "name": "ipython",
    "version": 3
   },
   "file_extension": ".py",
   "mimetype": "text/x-python",
   "name": "python",
   "nbconvert_exporter": "python",
   "pygments_lexer": "ipython3",
   "version": "3.11.9"
  }
 },
 "nbformat": 4,
 "nbformat_minor": 5
}
