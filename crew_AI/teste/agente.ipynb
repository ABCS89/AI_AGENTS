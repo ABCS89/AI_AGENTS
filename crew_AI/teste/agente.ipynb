{
 "cells": [
  {
   "cell_type": "code",
   "execution_count": 24,
   "id": "f5cb1557",
   "metadata": {},
   "outputs": [],
   "source": [
    "from dotenv import load_dotenv\n",
    "_ = load_dotenv()\n",
    "from crewai import Crew, Process, Agent, Task"
   ]
  },
  {
   "cell_type": "code",
   "execution_count": null,
   "id": "01d42361",
   "metadata": {},
   "outputs": [],
   "source": [
    "planejador_de_viagem = Agent(\n",
    "    role=\"Planejador de Viagem\",\n",
    "    goal=\"Planejar todos os detalhes de uma viagem na Europa, incluindo roteiros e atividades\",\n",
    "    backstory=\"\"\"\n",
    "    Você é um especialista em planejamento de viagens, sempre em busca de novas aventuras e experiencias.\n",
    "    Seu objetivo é garintir os detalhes da viagem sejam organizados de maneira eficiente e agradavel.\n",
    "    \"\"\",\n",
    "    verbose=True\n",
    ")"
   ]
  },
  {
   "cell_type": "code",
   "execution_count": 25,
   "id": "56c9fbac",
   "metadata": {},
   "outputs": [],
   "source": [
    "orcamentista = Agent(\n",
    "    role=\"Orçamentista de Viagem\",\n",
    "    goal=\"Estimar o custo total de uma viagem, considerando transporte, hospedagem, alimentação e atividades\",\n",
    "    backstory=\"\"\"\n",
    "    Você é um analista financeiro focado em viagem. Sua missão é garantir que os custos estejam dentro do orçamento, criandoestimativas precisas para cada parte da viagem.\n",
    "\"\"\"\n",
    ")"
   ]
  },
  {
   "cell_type": "code",
   "execution_count": 27,
   "id": "912af6f6",
   "metadata": {},
   "outputs": [],
   "source": [
    "planejar_roteiro = Task(\n",
    "    description=\"Crie um roteiro detalhado para uma viagem, incluindo as cidades, atividades e transportes\",\n",
    "    agent=planejador_de_viagem,\n",
    "    expected_output=\"\"\"\n",
    "    Um roteiro com a sequencia de cidades a serem visitadas, as principais atividades e o tipo de transporte a ser utilizado.\n",
    "    \"\"\"\n",
    ")"
   ]
  },
  {
   "cell_type": "code",
   "execution_count": 28,
   "id": "c4316822",
   "metadata": {},
   "outputs": [],
   "source": [
    "estima_orcamento = Task(\n",
    "    description=\"Calcule o orçamento total da viagem levando em consideração as cidades, transporte hospedagem e atividades\",\n",
    "    agent=orcamentista,\n",
    "    expected_output=\"\"\"\n",
    "    Uma estimativa de orçamento de orçamento detalhada, com custos para cada item da viagem.\n",
    "    \"\"\"\n",
    ")"
   ]
  },
  {
   "cell_type": "code",
   "execution_count": 30,
   "id": "847b7253",
   "metadata": {},
   "outputs": [],
   "source": [
    "viagem_crew = Crew(\n",
    "    agents=[planejador_de_viagem, orcamentista],\n",
    "    tasks=[planejar_roteiro, estima_orcamento],\n",
    "    process=Process.sequential\n",
    ")"
   ]
  },
  {
   "cell_type": "code",
   "execution_count": null,
   "id": "f3c9841e",
   "metadata": {},
   "outputs": [],
   "source": [
    "result = viagem_crew.kickoff()"
   ]
  },
  {
   "cell_type": "code",
   "execution_count": null,
   "id": "95c9343c",
   "metadata": {},
   "outputs": [],
   "source": [
    "print(result.raw)"
   ]
  }
 ],
 "metadata": {
  "kernelspec": {
   "display_name": ".venv",
   "language": "python",
   "name": "python3"
  },
  "language_info": {
   "codemirror_mode": {
    "name": "ipython",
    "version": 3
   },
   "file_extension": ".py",
   "mimetype": "text/x-python",
   "name": "python",
   "nbconvert_exporter": "python",
   "pygments_lexer": "ipython3",
   "version": "3.11.9"
  }
 },
 "nbformat": 4,
 "nbformat_minor": 5
}
