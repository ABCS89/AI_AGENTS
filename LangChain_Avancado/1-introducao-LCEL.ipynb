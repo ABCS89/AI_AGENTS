{
 "cells": [
  {
   "cell_type": "code",
   "execution_count": null,
   "id": "d506ad8a",
   "metadata": {},
   "outputs": [],
   "source": [
    "from langchain_openai import ChatOpenAI\n",
    "\n",
    "model = ChatOpenAI(model=\"gpt-3.5-turbo-0125\")"
   ]
  },
  {
   "cell_type": "code",
   "execution_count": null,
   "id": "710efac4",
   "metadata": {},
   "outputs": [],
   "source": [
    "from langchain_core.prompts import ChatPromptTemplate\n",
    "\n",
    "prompt = ChatPromptTemplate.from_template(\"Crie uma frase sopbre: {assunto}\")"
   ]
  },
  {
   "cell_type": "code",
   "execution_count": null,
   "id": "e81900e0",
   "metadata": {},
   "outputs": [],
   "source": [
    "chain = prompt | model"
   ]
  },
  {
   "cell_type": "code",
   "execution_count": null,
   "id": "896b1938",
   "metadata": {},
   "outputs": [],
   "source": [
    "chain"
   ]
  },
  {
   "cell_type": "code",
   "execution_count": null,
   "id": "3aca1893",
   "metadata": {},
   "outputs": [],
   "source": [
    "chain.invoke({\"assunto\": \"Python\"})"
   ]
  },
  {
   "cell_type": "code",
   "execution_count": null,
   "id": "e196533f",
   "metadata": {},
   "outputs": [],
   "source": [
    "from langchain_core.output_parsers import StrOutputParser\n",
    "\n",
    "output_parser = StrOutputParser()\n",
    "\n",
    "chain = prompt | model | output_parser"
   ]
  },
  {
   "cell_type": "code",
   "execution_count": null,
   "id": "3f39a8eb",
   "metadata": {},
   "outputs": [],
   "source": [
    "chain.invoke({\"assunto\": \"Python\"})"
   ]
  },
  {
   "cell_type": "code",
   "execution_count": null,
   "id": "55b028f2",
   "metadata": {},
   "outputs": [],
   "source": [
    "input = {\"assunto\": \"Python\"}"
   ]
  },
  {
   "cell_type": "code",
   "execution_count": null,
   "id": "a28fdb87",
   "metadata": {},
   "outputs": [],
   "source": [
    "prompt_format = prompt.invoke(input)\n",
    "prompt_format"
   ]
  },
  {
   "cell_type": "code",
   "execution_count": null,
   "id": "aa7c5f7b",
   "metadata": {},
   "outputs": [],
   "source": [
    "resposta = model.invoke(prompt_format)\n",
    "resposta"
   ]
  },
  {
   "cell_type": "code",
   "execution_count": null,
   "id": "b43bedfe",
   "metadata": {},
   "outputs": [],
   "source": [
    "from langchain.chains.llm import LLMChain\n",
    "from langchain_openai.chat_models import ChatOpenAI\n",
    "from langchain_core.output_parsers import StrOutputParser\n",
    "from langchain_core.prompts import ChatPromptTemplate\n",
    "\n",
    "model = ChatOpenAI(model=\"gpt-3.5-turbo\")\n",
    "\n",
    "prompt = ChatPromptTemplate.from_template(\"Crie uma frase sobre o assunto {assunto}\")\n",
    "\n",
    "output_parser = StrOutputParser()"
   ]
  },
  {
   "cell_type": "code",
   "execution_count": null,
   "id": "26c490f4",
   "metadata": {},
   "outputs": [],
   "source": [
    "chain = LLMChain(\n",
    "    llm=model,\n",
    "    prompt=prompt,\n",
    "    output_parser=output_parser\n",
    ")\n",
    "\n",
    "chain.invoke({\"assunto\": \"python\"})"
   ]
  },
  {
   "cell_type": "code",
   "execution_count": null,
   "id": "91625941",
   "metadata": {},
   "outputs": [],
   "source": [
    "from langchain_community.document_loaders.pdf import PyPDFLoader\n",
    "from langchain_text_splitters import RecursiveCharacterTextSplitter"
   ]
  },
  {
   "cell_type": "code",
   "execution_count": null,
   "id": "6ab7195b",
   "metadata": {},
   "outputs": [],
   "source": [
    "caminhos = [\n",
    "    \"files\\LLM.pdf\",\n",
    "]\n",
    "\n",
    "paginas = []\n",
    "\n",
    "for caminho in caminhos:\n",
    "    loader = PyPDFLoader(caminho)\n",
    "    paginas.extend(loader.load())\n",
    "    \n",
    "    recur_split = RecursiveCharacterTextSplitter(\n",
    "        chunk_size=500,\n",
    "        chunk_overlap=50,\n",
    "        separators=[\"\\n\\n\", \"\\n\", \".\", \" \",\"\"]\n",
    "    )\n",
    "    \n",
    "    documents = recur_split.split_documents(paginas)"
   ]
  },
  {
   "cell_type": "code",
   "execution_count": null,
   "id": "d2708a79",
   "metadata": {},
   "outputs": [],
   "source": [
    "from langchain_openai import OpenAIEmbeddings\n",
    "\n",
    "embeddings_model = OpenAIEmbeddings()"
   ]
  },
  {
   "cell_type": "code",
   "execution_count": null,
   "id": "38c511c9",
   "metadata": {},
   "outputs": [],
   "source": [
    "from langchain_community.vectorstores.faiss import FAISS\n",
    "\n",
    "vectorstore = FAISS.from_documents(\n",
    "    documents=documents,\n",
    "    embedding=embeddings_model\n",
    ")\n",
    "retriever = vectorstore.as_retriever(search_type='mmr')"
   ]
  },
  {
   "cell_type": "code",
   "execution_count": null,
   "id": "62925690",
   "metadata": {},
   "outputs": [],
   "source": [
    "from langchain_openai import ChatOpenAI\n",
    "from langchain_core.prompts import ChatMessagePromptTemplate\n",
    "from langchain_core.output_parsers import StrOutputParser\n",
    "\n",
    "model = ChatOpenAI()\n",
    "\n",
    "template_str = '''\n",
    "    Responda as perguntas do usuário com base no contexto fornecido\n",
    "    \n",
    "    Contexto {contexto}\n",
    "    \n",
    "    Pergunta {pergunta}\n",
    "'''\n",
    "\n",
    "template = ChatPromptTemplate.from_template(template_str)\n",
    "output_parser = StrOutputParser()"
   ]
  },
  {
   "cell_type": "code",
   "execution_count": null,
   "id": "0f3e7989",
   "metadata": {},
   "outputs": [],
   "source": [
    "from langchain_core.runnables import RunnableParallel, RunnablePassthrough\n",
    "\n",
    "setup_retrieval = RunnableParallel(\n",
    "    {\n",
    "        \"pergunta\": RunnablePassthrough(),\n",
    "        \"contexto\": retriever\n",
    "    }\n",
    ")\n",
    "\n",
    "chain = setup_retrieval | template | model | output_parser"
   ]
  },
  {
   "cell_type": "code",
   "execution_count": null,
   "id": "04faa63b",
   "metadata": {},
   "outputs": [],
   "source": [
    "chain.invoke(\"O que é embregaem deslizante?\")"
   ]
  }
 ],
 "metadata": {
  "kernelspec": {
   "display_name": ".venv",
   "language": "python",
   "name": "python3"
  },
  "language_info": {
   "codemirror_mode": {
    "name": "ipython",
    "version": 3
   },
   "file_extension": ".py",
   "mimetype": "text/x-python",
   "name": "python",
   "nbconvert_exporter": "python",
   "pygments_lexer": "ipython3",
   "version": "3.11.9"
  }
 },
 "nbformat": 4,
 "nbformat_minor": 5
}
