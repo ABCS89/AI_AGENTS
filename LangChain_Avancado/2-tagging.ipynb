{
 "cells": [
  {
   "cell_type": "code",
   "execution_count": null,
   "id": "70426443",
   "metadata": {},
   "outputs": [],
   "source": [
    "from langchain.pydantic_v1 import BaseModel, Field\n",
    "from langchain_core.utils.function_calling import convert_to_openai_function"
   ]
  },
  {
   "cell_type": "code",
   "execution_count": null,
   "id": "f2244674",
   "metadata": {},
   "outputs": [],
   "source": [
    "class Sentiment(BaseModel):\n",
    "    \"\"\"\n",
    "    Define o sentimento e o idioma da mensagem\n",
    "    \"\"\"\n",
    "    sentimento: str = Field(description=\"Sentimento do texto. Deve ser 'pos', 'neg', ou 'nt' para não definido\")\n",
    "    lingua: str = Field(description=\"Lingua que o texto for escrito (deve estar no charset UTF-8)\")\n",
    "    \n",
    "tool_sentimento = convert_to_openai_function(Sentiment)\n",
    "tool_sentimento"
   ]
  },
  {
   "cell_type": "code",
   "execution_count": null,
   "id": "effc71de",
   "metadata": {},
   "outputs": [],
   "source": [
    "texto = \"Eu conheço motos\""
   ]
  },
  {
   "cell_type": "code",
   "execution_count": null,
   "id": "34b8df46",
   "metadata": {},
   "outputs": [],
   "source": [
    "from langchain.prompts import ChatPromptTemplate\n",
    "from langchain_openai import ChatOpenAI\n",
    "\n",
    "prompt = ChatPromptTemplate.from_messages([\n",
    "    (\"system\", \"Analise o texto e categorize-o conforme as instruções\"),\n",
    "    (\"user\", \"{input}\")\n",
    "])\n",
    "\n",
    "chat = ChatOpenAI()\n",
    "\n",
    "chain = prompt | chat.bind(functions=[tool_sentimento],\n",
    "                            function_call={\"name\": \"Sentiment\"})"
   ]
  },
  {
   "cell_type": "code",
   "execution_count": null,
   "id": "4384000b",
   "metadata": {},
   "outputs": [],
   "source": [
    "chain.invoke({\"input\": texto})"
   ]
  }
 ],
 "metadata": {
  "kernelspec": {
   "display_name": ".venv",
   "language": "python",
   "name": "python3"
  },
  "language_info": {
   "codemirror_mode": {
    "name": "ipython",
    "version": 3
   },
   "file_extension": ".py",
   "mimetype": "text/x-python",
   "name": "python",
   "nbconvert_exporter": "python",
   "pygments_lexer": "ipython3",
   "version": "3.11.9"
  }
 },
 "nbformat": 4,
 "nbformat_minor": 5
}
