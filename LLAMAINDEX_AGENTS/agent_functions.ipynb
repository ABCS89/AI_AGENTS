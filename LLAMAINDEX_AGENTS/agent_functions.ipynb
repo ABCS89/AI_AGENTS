{
 "cells": [
  {
   "cell_type": "code",
   "execution_count": null,
   "id": "01748720",
   "metadata": {},
   "outputs": [],
   "source": [
    "from llama_index.core import Settings\n",
    "from llama_index.llms.groq import Groq"
   ]
  },
  {
   "cell_type": "code",
   "execution_count": null,
   "id": "9164ff4c",
   "metadata": {},
   "outputs": [],
   "source": [
    "import os\n",
    "llm = Groq(model=\"llama-3.3-70b-versatile\",\n",
    "           api_key=os.environ[\"GROQ_API_KEY\"],)"
   ]
  },
  {
   "cell_type": "markdown",
   "id": "11dcce44",
   "metadata": {},
   "source": [
    "### 🧱 Criar uma função de calculo de imposto de renda, para se transformar em uma 🛠️Tool (🛠️ferramenta)"
   ]
  },
  {
   "cell_type": "code",
   "execution_count": null,
   "id": "6c1199eb",
   "metadata": {},
   "outputs": [],
   "source": [
    "def calcular_imposto_renda(rendimento: float) -> str:\n",
    "    \"\"\"\n",
    "    Calcula o imposto de renda com base no rendimento anual.\n",
    "    Args:\n",
    "        rendimento (float): Rendimento anualdo individuo.\n",
    "    Returns:\n",
    "        str: Valor do imposto de renda a ser pago.\n",
    "    \"\"\"\n",
    "    if rendimento <= 2000:\n",
    "        return \"Você está isento de pagar imposto de renda.\"\n",
    "    elif 2000 < rendimento <= 5000:\n",
    "        imposto = (rendimento - 2000) * 0.10\n",
    "        return f\"Você deve pagar R$ {imposto:.2f} baseado em um rendimento de R$ {rendimento:.2f}.\"\n",
    "    elif 5000 < rendimento <= 10000:\n",
    "        imposto = (rendimento - 5000) * 0.15 + (3000 * 0.10)\n",
    "        return f\"Você deve pagar R$ {imposto:.2f} baseado em um rendimento de R$ {rendimento:.2f}.\"\n",
    "    else:\n",
    "        imposto = (rendimento - 10000) * 0.20 + (5000 * 0.15) + (3000 * 0.10)\n",
    "        return f\"Você deve pagar R$ {imposto:.2f} baseado em um rendimento de R$ {rendimento:.2f}.\""
   ]
  },
  {
   "cell_type": "markdown",
   "id": "f1422860",
   "metadata": {},
   "source": [
    "## 🔄 Convertendo 🧰 função em 🔧ferramenta"
   ]
  },
  {
   "cell_type": "code",
   "execution_count": null,
   "id": "668ab031",
   "metadata": {},
   "outputs": [],
   "source": [
    "from llama_index.core.tools import FunctionTool"
   ]
  },
  {
   "cell_type": "markdown",
   "id": "08921953",
   "metadata": {},
   "source": [
    "#### 🧪 Definindo Função"
   ]
  },
  {
   "cell_type": "code",
   "execution_count": null,
   "id": "f709f334",
   "metadata": {},
   "outputs": [],
   "source": [
    "ferramenta_imposto_renda = FunctionTool.from_defaults(\n",
    "    fn=calcular_imposto_renda,\n",
    "    name=\"Calcular imposto de renda\",\n",
    "    description=(\n",
    "        \"Calcula o imposto de renda com base no rendimento anual do individuo.\"\n",
    "        \"Argumento: rendimento (float).\"\n",
    "        \"Retorna o valor do imposto devido de acordo com as faixas de endimento.\"\n",
    "    )\n",
    ")\n"
   ]
  },
  {
   "cell_type": "markdown",
   "id": "2d376db8",
   "metadata": {},
   "source": [
    "# ⚠️ Usando o Agente"
   ]
  },
  {
   "cell_type": "code",
   "execution_count": null,
   "id": "9236041e",
   "metadata": {},
   "outputs": [],
   "source": [
    "from llama_index.core.agent import FunctionCallingAgentWorker"
   ]
  },
  {
   "cell_type": "code",
   "execution_count": null,
   "id": "8fd4b531",
   "metadata": {},
   "outputs": [],
   "source": [
    "agent_worker_imposto = FunctionCallingAgentWorker.from_tools(\n",
    "    tools=[ferramenta_imposto_renda],\n",
    "    verbose=True,\n",
    "    allow_parallel_tool_calls=True,\n",
    "    llm=llm\n",
    ")\n"
   ]
  },
  {
   "cell_type": "markdown",
   "id": "f6fed885",
   "metadata": {},
   "source": [
    "#### 📦 Executar Agente "
   ]
  },
  {
   "cell_type": "code",
   "execution_count": null,
   "id": "b2e0ce85",
   "metadata": {},
   "outputs": [],
   "source": [
    "from llama_index.core.agent import AgentRunner"
   ]
  },
  {
   "cell_type": "markdown",
   "id": "a8346e4f",
   "metadata": {},
   "source": [
    "#### 🏷️ Importar Agent runner"
   ]
  },
  {
   "cell_type": "code",
   "execution_count": null,
   "id": "413aebfe",
   "metadata": {},
   "outputs": [],
   "source": [
    "agent_imposto = AgentRunner(agent_worker_imposto)"
   ]
  },
  {
   "cell_type": "code",
   "execution_count": null,
   "id": "f57e1095",
   "metadata": {},
   "outputs": [],
   "source": [
    "response = agent_imposto.chat(\"\"\"\n",
    "    QUal o imposto a ser pago por um rendimento anual de R$ 5000?\n",
    "    \"\"\"\n",
    ")"
   ]
  },
  {
   "cell_type": "markdown",
   "id": "19a92eb9",
   "metadata": {},
   "source": [
    "#### 📂 Importar ARXIV"
   ]
  },
  {
   "cell_type": "code",
   "execution_count": null,
   "id": "13698836",
   "metadata": {},
   "outputs": [],
   "source": [
    "import arxiv\n",
    "\n",
    "def consulta_artigos(titulo: str) -> str:\n",
    "    \"\"\"\n",
    "    Consulta os artigos na base de dados ArXiv e retorna resultados formatados.\n",
    "    \"\"\"\n",
    "    busca = arxiv.Search(\n",
    "        query=titulo,\n",
    "        max_results=5,\n",
    "        sort_by=arxiv.SortCriterion.Relevance\n",
    "    )\n",
    "    \n",
    "    resultados = [\n",
    "    f\"Título: {artigo.title}\\n\"\n",
    "    f\"Categoria: {artigo.primary_category}\\n\"\n",
    "    f\"Link: {artigo.entry_id}\\n\"\n",
    "    for artigo in busca.results()\n",
    "    ]\n",
    "    \n",
    "    return \"\\n\\n\".join(resultados)"
   ]
  },
  {
   "cell_type": "markdown",
   "id": "7373f772",
   "metadata": {},
   "source": [
    "#### 🛠️ Transformar em ferramenta"
   ]
  },
  {
   "cell_type": "code",
   "execution_count": null,
   "id": "5a1a514c",
   "metadata": {},
   "outputs": [],
   "source": [
    "consulta_artigos_tool = FunctionTool.from_defaults(\n",
    "    fn=consulta_artigos,\n",
    "    name=\"Consulta artigos ArXiv\",\n",
    "    description=(\n",
    "        \"Consulta artigos na base de dados ArXiv com base no título fornecido.\"\n",
    "        \"Argumento: titulo (str).\"\n",
    "        \"Retorna uma lista de artigos relevantes com título, categoria e link.\"\n",
    "    )\n",
    ")"
   ]
  },
  {
   "cell_type": "markdown",
   "id": "ef515af9",
   "metadata": {},
   "source": [
    "#### 🧩 Agente Worker\n",
    "\n",
    "> - usar o\n",
    "```python\n",
    "llm=llm\n",
    "```\n",
    "> - para chamar o llm do codigo, pois ele usa como padrão o OpenAI"
   ]
  },
  {
   "cell_type": "code",
   "execution_count": null,
   "id": "adce5bdc",
   "metadata": {},
   "outputs": [],
   "source": [
    "agent_worker = FunctionCallingAgentWorker.from_tools(\n",
    "    [ferramenta_imposto_renda, consulta_artigos_tool],\n",
    "    verbose=True,\n",
    "    allow_parallel_tool_calls=False,\n",
    "    llm=llm\n",
    ")"
   ]
  },
  {
   "cell_type": "markdown",
   "id": "e4c95df2",
   "metadata": {},
   "source": [
    "#### ⚙️ Executar o agent_runner"
   ]
  },
  {
   "cell_type": "code",
   "execution_count": null,
   "id": "a53f6fb2",
   "metadata": {},
   "outputs": [],
   "source": [
    "agent = AgentRunner(agent_worker)\n",
    "response = agent.chat(\"\"\"\n",
    " Me retorne artigos sobre LangChain na educação\n",
    "    \"\"\"\n",
    ")"
   ]
  },
  {
   "cell_type": "markdown",
   "id": "af00ec8f",
   "metadata": {},
   "source": [
    "## 🧩 Integrar com Tavily"
   ]
  },
  {
   "cell_type": "code",
   "execution_count": null,
   "id": "3fc1d053",
   "metadata": {},
   "outputs": [],
   "source": [
    "import os\n",
    "from dotenv import load_dotenv,find_dotenv\n",
    "_= load_dotenv(find_dotenv())"
   ]
  },
  {
   "cell_type": "markdown",
   "id": "4187cd74",
   "metadata": {},
   "source": [
    "#### ⚙️ importando a API KEY"
   ]
  },
  {
   "cell_type": "code",
   "execution_count": null,
   "id": "ca4a00f7",
   "metadata": {},
   "outputs": [],
   "source": [
    "tavily_key = os.environ.get(\"TAVILY_API_KEY\")"
   ]
  },
  {
   "cell_type": "markdown",
   "id": "d35a5e26",
   "metadata": {},
   "source": [
    "#### 🔗 Intagrando API key do tavily com Llama_Index"
   ]
  },
  {
   "cell_type": "code",
   "execution_count": null,
   "id": "acc8702f",
   "metadata": {},
   "outputs": [],
   "source": [
    "from llama_index.tools.tavily_research import TavilyToolSpec\n",
    "\n",
    "tavily_tool = TavilyToolSpec(\n",
    "    api_key=tavily_key\n",
    ")"
   ]
  },
  {
   "cell_type": "markdown",
   "id": "588f2f0e",
   "metadata": {},
   "source": [
    "#### 🏷️ Função de Busca"
   ]
  },
  {
   "cell_type": "code",
   "execution_count": null,
   "id": "34138699",
   "metadata": {},
   "outputs": [],
   "source": [
    "tavily_tool_list = tavily_tool.to_tool_list()\n",
    "for tool in tavily_tool_list:\n",
    "    print(tool.metadata.name)\n"
   ]
  },
  {
   "cell_type": "markdown",
   "id": "94ea1578",
   "metadata": {},
   "source": [
    "#### 🔎 Usando Apenas Tavily para fazer pesquisa"
   ]
  },
  {
   "cell_type": "code",
   "execution_count": null,
   "id": "e41c89a3",
   "metadata": {},
   "outputs": [],
   "source": [
    "tavily_tool.search(\"Me retorne artigos cientificos sobre LangChain\", max_results=3)"
   ]
  },
  {
   "cell_type": "markdown",
   "id": "f2e6da21",
   "metadata": {},
   "source": [
    "# 🧩 Incorporar o tavily como ferramenta para o agente"
   ]
  },
  {
   "cell_type": "markdown",
   "id": "5743e749",
   "metadata": {},
   "source": [
    "#### importar "
   ]
  },
  {
   "cell_type": "code",
   "execution_count": null,
   "id": "7b471a64",
   "metadata": {},
   "outputs": [],
   "source": [
    "from llama_index.core.tools import FunctionTool\n",
    "\n",
    "tavily_tool_function = FunctionTool.from_defaults(\n",
    "    fn=tavily_tool.search,\n",
    "    name=\"Tavily Search\",\n",
    "    description=(\n",
    "        \"Busca artigos científicos e informações na base de dados Tavily.\"\n",
    "    )\n",
    ")\n"
   ]
  },
  {
   "cell_type": "markdown",
   "id": "b847e93a",
   "metadata": {},
   "source": [
    "#### 🛠️ Criar agent worker"
   ]
  },
  {
   "cell_type": "code",
   "execution_count": null,
   "id": "a85faf14",
   "metadata": {},
   "outputs": [],
   "source": [
    "agent_worker = FunctionCallingAgentWorker.from_tools(\n",
    "    tools=[tavily_tool_function],\n",
    "    verbose=True,\n",
    "    allow_parallel_tool_calls=False,\n",
    "    llm=llm\n",
    ")"
   ]
  },
  {
   "cell_type": "code",
   "execution_count": null,
   "id": "c7ac91b5",
   "metadata": {},
   "outputs": [],
   "source": [
    "agent = AgentRunner(agent_worker)"
   ]
  },
  {
   "cell_type": "code",
   "execution_count": null,
   "id": "e6a4378b",
   "metadata": {},
   "outputs": [],
   "source": [
    "response = agent.chat(\"\"\"\n",
    "    Me retorne artigos sobre LLM e LangChain\n",
    "    \"\"\"\n",
    ")"
   ]
  },
  {
   "cell_type": "code",
   "execution_count": null,
   "id": "d42fb91e",
   "metadata": {},
   "outputs": [],
   "source": [
    "print(response)"
   ]
  },
  {
   "cell_type": "markdown",
   "id": "2f6e454e",
   "metadata": {},
   "source": [
    "## 📝 Usar arquivos PDF\n"
   ]
  },
  {
   "cell_type": "code",
   "execution_count": null,
   "id": "c4ad0943",
   "metadata": {},
   "outputs": [],
   "source": [
    "from llama_index.core import SimpleDirectoryReader, VectorStoreIndex"
   ]
  },
  {
   "cell_type": "markdown",
   "id": "a292e2da",
   "metadata": {},
   "source": [
    "#### 🧠 Fazer \"upload\" dos PDFs para o sistema"
   ]
  },
  {
   "cell_type": "code",
   "execution_count": null,
   "id": "11f8c5dd",
   "metadata": {},
   "outputs": [],
   "source": [
    "url = \"files/LLM.pdf\"\n",
    "artigo = SimpleDirectoryReader(input_files=[url]).load_data()\n"
   ]
  },
  {
   "cell_type": "code",
   "execution_count": null,
   "id": "0c05416f",
   "metadata": {},
   "outputs": [],
   "source": [
    "url = \"files/LLM_2.pdf\"\n",
    "tutorial = SimpleDirectoryReader(input_files=[url]).load_data()"
   ]
  },
  {
   "cell_type": "markdown",
   "id": "1391f8ee",
   "metadata": {},
   "source": [
    "## 🚨 Gerar os Embeddings\n",
    "- usar o Hugging face"
   ]
  },
  {
   "cell_type": "code",
   "execution_count": null,
   "id": "7829876a",
   "metadata": {},
   "outputs": [],
   "source": [
    "from llama_index.embeddings.huggingface import HuggingFaceEmbedding"
   ]
  },
  {
   "cell_type": "markdown",
   "id": "d54f5c66",
   "metadata": {},
   "source": [
    "#### ⚠️ Instalando Hugging Face"
   ]
  },
  {
   "cell_type": "code",
   "execution_count": null,
   "id": "d027ff66",
   "metadata": {},
   "outputs": [],
   "source": [
    "Settings.embed_model = HuggingFaceEmbedding(\n",
    "    model_name=\"intfloat/multilingual-e5-large\"\n",
    ")"
   ]
  },
  {
   "cell_type": "code",
   "execution_count": null,
   "id": "1b2c11e9",
   "metadata": {},
   "outputs": [],
   "source": [
    "artigo_index = VectorStoreIndex.from_documents(artigo)\n",
    "tutorial_index = VectorStoreIndex.from_documents(tutorial)"
   ]
  },
  {
   "cell_type": "code",
   "execution_count": null,
   "id": "6393212e",
   "metadata": {},
   "outputs": [],
   "source": [
    "artigo_index.storage_context.persist(persist_dir=\"artigo\")\n",
    "tutorial_index.storage_context.persist(persist_dir=\"tutorial\")"
   ]
  },
  {
   "cell_type": "markdown",
   "id": "05ee2c04",
   "metadata": {},
   "source": [
    "### ⚙️ Engine de Busca"
   ]
  },
  {
   "cell_type": "code",
   "execution_count": null,
   "id": "5e3fd2b0",
   "metadata": {},
   "outputs": [],
   "source": [
    "from llama_index.core import StorageContext, load_index_from_storage"
   ]
  },
  {
   "cell_type": "code",
   "execution_count": null,
   "id": "37831dd0",
   "metadata": {},
   "outputs": [],
   "source": [
    "storage_context = StorageContext.from_defaults(\n",
    "    persist_dir=\"artigo\"\n",
    ")\n",
    "artigo_index = load_index_from_storage(storage_context)\n",
    "\n",
    "storage_context = StorageContext.from_defaults(\n",
    "    persist_dir=\"tutorial\"\n",
    ")\n",
    "tutorial_index = load_index_from_storage(storage_context)"
   ]
  },
  {
   "cell_type": "markdown",
   "id": "72208909",
   "metadata": {},
   "source": [
    "#### teste de engine"
   ]
  },
  {
   "cell_type": "code",
   "execution_count": null,
   "id": "da46cc33",
   "metadata": {},
   "outputs": [],
   "source": [
    "artigo_engine = artigo_index.as_query_engine(\n",
    "    similarity_top_k=3, llm=llm\n",
    ")\n",
    "\n",
    "tutorial_engine = tutorial_index.as_query_engine(\n",
    "    similarity_top_k=3, llm=llm\n",
    ")"
   ]
  },
  {
   "cell_type": "code",
   "execution_count": null,
   "id": "6b649068",
   "metadata": {},
   "outputs": [],
   "source": [
    "query_engine_tools = [\n",
    "    QueryEngineTool(\n",
    "        query_engine=artigo_engine,\n",
    "        metadata=ToolMetadata(\n",
    "            name=\"artigo_engine\",\n",
    "            description=(\n",
    "                \"Fonceçe informações sobre LLM e LangChain.\"\n",
    "                    \"Use uma pergunta detalhada em texto simples como entrada para a ferramenta.\"\n",
    "            )\n",
    "        )\n",
    "    ),\n",
    "    QueryEngineTool(\n",
    "        query_engine=tutorial_engine,\n",
    "        metadata=ToolMetadata(\n",
    "            name=\"tutorial_engine\",\n",
    "            description=(\n",
    "                \"Fonceçe informações sobre casos de uso e aplicações em LLMs.\"\n",
    "                    \"Use uma pergunta detalhada em texto simples como entrada para a ferramenta.\"\n",
    "            )\n",
    "        )\n",
    "    )\n",
    "]"
   ]
  }
 ],
 "metadata": {
  "kernelspec": {
   "display_name": ".venv",
   "language": "python",
   "name": "python3"
  },
  "language_info": {
   "codemirror_mode": {
    "name": "ipython",
    "version": 3
   },
   "file_extension": ".py",
   "mimetype": "text/x-python",
   "name": "python",
   "nbconvert_exporter": "python",
   "pygments_lexer": "ipython3",
   "version": "3.11.9"
  }
 },
 "nbformat": 4,
 "nbformat_minor": 5
}
