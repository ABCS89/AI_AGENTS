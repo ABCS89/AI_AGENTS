{
 "cells": [
  {
   "cell_type": "code",
   "execution_count": null,
   "id": "01748720",
   "metadata": {},
   "outputs": [],
   "source": [
    "from llama_index.core import Settings\n",
    "from llama_index.llms.groq import Groq"
   ]
  },
  {
   "cell_type": "code",
   "execution_count": null,
   "id": "9164ff4c",
   "metadata": {},
   "outputs": [],
   "source": [
    "import os\n",
    "llm = Groq(model=\"llama-3.3-70b-versatile\",\n",
    "           api_key=os.environ[\"GROQ_API_KEY\"],)"
   ]
  },
  {
   "cell_type": "markdown",
   "id": "11dcce44",
   "metadata": {},
   "source": [
    "### 🧱 Criar uma função de calculo de imposto de renda, para se transformar em uma 🛠️Tool (🛠️ferramenta)"
   ]
  },
  {
   "cell_type": "code",
   "execution_count": null,
   "id": "6c1199eb",
   "metadata": {},
   "outputs": [],
   "source": [
    "def calcular_imposto_renda(rendimento: float) -> str:\n",
    "    \"\"\"\n",
    "    Calcula o imposto de renda com base no rendimento anual.\n",
    "    Args:\n",
    "        rendimento (float): Rendimento anualdo individuo.\n",
    "    Returns:\n",
    "        str: Valor do imposto de renda a ser pago.\n",
    "    \"\"\"\n",
    "    if rendimento <= 2000:\n",
    "        return \"Você está isento de pagar imposto de renda.\"\n",
    "    elif 2000 < rendimento <= 5000:\n",
    "        imposto = (rendimento - 2000) * 0.10\n",
    "        return f\"Você deve pagar R$ {imposto:.2f} baseado em um rendimento de R$ {rendimento:.2f}.\"\n",
    "    elif 5000 < rendimento <= 10000:\n",
    "        imposto = (rendimento - 5000) * 0.15 + (3000 * 0.10)\n",
    "        return f\"Você deve pagar R$ {imposto:.2f} baseado em um rendimento de R$ {rendimento:.2f}.\"\n",
    "    else:\n",
    "        imposto = (rendimento - 10000) * 0.20 + (5000 * 0.15) + (3000 * 0.10)\n",
    "        return f\"Você deve pagar R$ {imposto:.2f} baseado em um rendimento de R$ {rendimento:.2f}.\""
   ]
  },
  {
   "cell_type": "markdown",
   "id": "f1422860",
   "metadata": {},
   "source": [
    "## 🔄 Convertendo 🧰 função em 🔧ferramenta"
   ]
  },
  {
   "cell_type": "code",
   "execution_count": null,
   "id": "668ab031",
   "metadata": {},
   "outputs": [],
   "source": [
    "from llama_index.core.tools import FunctionTool"
   ]
  },
  {
   "cell_type": "markdown",
   "id": "08921953",
   "metadata": {},
   "source": [
    "#### 🧪 Definindo Função"
   ]
  },
  {
   "cell_type": "code",
   "execution_count": null,
   "id": "f709f334",
   "metadata": {},
   "outputs": [],
   "source": [
    "ferramenta_imposto_renda = FunctionTool.from_defaults(\n",
    "    fn=calcular_imposto_renda,\n",
    "    name=\"Calcular imposto de renda\",\n",
    "    description=(\n",
    "        \"Calcula o imposto de renda com base no rendimento anual do individuo.\"\n",
    "        \"Argumento: rendimento (float).\"\n",
    "        \"Retorna o valor do imposto devido de acordo com as faixas de endimento.\"\n",
    "    )\n",
    ")\n"
   ]
  },
  {
   "cell_type": "markdown",
   "id": "2d376db8",
   "metadata": {},
   "source": [
    "# ⚠️ Usando o Agente"
   ]
  },
  {
   "cell_type": "code",
   "execution_count": null,
   "id": "9236041e",
   "metadata": {},
   "outputs": [],
   "source": [
    "from llama_index.core.agent import FunctionCallingAgentWorker"
   ]
  },
  {
   "cell_type": "code",
   "execution_count": null,
   "id": "8fd4b531",
   "metadata": {},
   "outputs": [],
   "source": [
    "agent_worker_imposto = FunctionCallingAgentWorker.from_tools(\n",
    "    tools=[ferramenta_imposto_renda],\n",
    "    verbose=True,\n",
    "    allow_parallel_tool_calls=True,\n",
    "    llm=llm\n",
    ")\n"
   ]
  },
  {
   "cell_type": "markdown",
   "id": "f6fed885",
   "metadata": {},
   "source": [
    "#### 📦 Executar Agente "
   ]
  },
  {
   "cell_type": "code",
   "execution_count": null,
   "id": "b2e0ce85",
   "metadata": {},
   "outputs": [],
   "source": [
    "from llama_index.core.agent import AgentRunner"
   ]
  },
  {
   "cell_type": "markdown",
   "id": "a8346e4f",
   "metadata": {},
   "source": [
    "#### 🏷️ Importar Agent runner"
   ]
  },
  {
   "cell_type": "code",
   "execution_count": null,
   "id": "413aebfe",
   "metadata": {},
   "outputs": [],
   "source": [
    "agent_imposto = AgentRunner(agent_worker_imposto)"
   ]
  },
  {
   "cell_type": "code",
   "execution_count": null,
   "id": "f57e1095",
   "metadata": {},
   "outputs": [],
   "source": [
    "response = agent_imposto.chat(\"\"\"\n",
    "    QUal o imposto a ser pago por um rendimento anual de R$ 5000?\n",
    "    \"\"\"\n",
    ")"
   ]
  },
  {
   "cell_type": "markdown",
   "id": "19a92eb9",
   "metadata": {},
   "source": [
    "#### 📂 Importar ARXIV"
   ]
  },
  {
   "cell_type": "code",
   "execution_count": null,
   "id": "13698836",
   "metadata": {},
   "outputs": [],
   "source": [
    "import arxiv\n",
    "\n",
    "def consulta_artigos(titulo: str) -> str:\n",
    "    \"\"\"\n",
    "    Consulta os artigos na base de dados ArXiv e retorna resultados formatados.\n",
    "    \"\"\"\n",
    "    busca = arxiv.Search(\n",
    "        query=titulo,\n",
    "        max_results=5,\n",
    "        sort_by=arxiv.SortCriterion.Relevance\n",
    "    )\n",
    "    \n",
    "    resultados = [\n",
    "    f\"Título: {artigo.title}\\n\"\n",
    "    f\"Categoria: {artigo.primary_category}\\n\"\n",
    "    f\"Link: {artigo.entry_id}\\n\"\n",
    "    for artigo in busca.results()\n",
    "    ]\n",
    "    \n",
    "    return \"\\n\\n\".join(resultados)"
   ]
  },
  {
   "cell_type": "markdown",
   "id": "7373f772",
   "metadata": {},
   "source": [
    "#### 🛠️ Transformar em ferramenta"
   ]
  },
  {
   "cell_type": "code",
   "execution_count": null,
   "id": "5a1a514c",
   "metadata": {},
   "outputs": [],
   "source": [
    "consulta_artigos_tool = FunctionTool.from_defaults(\n",
    "    fn=consulta_artigos,\n",
    "    name=\"Consulta artigos ArXiv\",\n",
    "    description=(\n",
    "        \"Consulta artigos na base de dados ArXiv com base no título fornecido.\"\n",
    "        \"Argumento: titulo (str).\"\n",
    "        \"Retorna uma lista de artigos relevantes com título, categoria e link.\"\n",
    "    )\n",
    ")"
   ]
  },
  {
   "cell_type": "markdown",
   "id": "ef515af9",
   "metadata": {},
   "source": [
    "#### 🧩 Agente Worker\n",
    "\n",
    "> - usar o\n",
    "```python\n",
    "llm=llm\n",
    "```\n",
    "> - para chamar o llm do codigo, pois ele usa como padrão o OpenAI"
   ]
  },
  {
   "cell_type": "code",
   "execution_count": null,
   "id": "adce5bdc",
   "metadata": {},
   "outputs": [],
   "source": [
    "agent_worker = FunctionCallingAgentWorker.from_tools(\n",
    "    [ferramenta_imposto_renda, consulta_artigos_tool],\n",
    "    verbose=True,\n",
    "    allow_parallel_tool_calls=False,\n",
    "    llm=llm\n",
    ")"
   ]
  },
  {
   "cell_type": "markdown",
   "id": "e4c95df2",
   "metadata": {},
   "source": [
    "#### ⚙️ Executar o agent_runner"
   ]
  },
  {
   "cell_type": "code",
   "execution_count": null,
   "id": "a53f6fb2",
   "metadata": {},
   "outputs": [],
   "source": [
    "agent = AgentRunner(agent_worker)\n",
    "response = agent.chat(\"\"\"\n",
    " Me retorne artigos sobre LangChain na educação\n",
    "    \"\"\"\n",
    ")"
   ]
  }
 ],
 "metadata": {
  "kernelspec": {
   "display_name": ".venv",
   "language": "python",
   "name": "python3"
  },
  "language_info": {
   "codemirror_mode": {
    "name": "ipython",
    "version": 3
   },
   "file_extension": ".py",
   "mimetype": "text/x-python",
   "name": "python",
   "nbconvert_exporter": "python",
   "pygments_lexer": "ipython3",
   "version": "3.11.9"
  }
 },
 "nbformat": 4,
 "nbformat_minor": 5
}
