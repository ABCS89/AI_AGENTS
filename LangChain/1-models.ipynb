{
 "cells": [
  {
   "cell_type": "code",
   "execution_count": 1,
   "id": "f8ad0d13",
   "metadata": {},
   "outputs": [
    {
     "name": "stderr",
     "output_type": "stream",
     "text": [
      "c:\\Users\\abusilva\\Desktop\\Github\\AI_AGENTS\\LangChain\\.venv\\Lib\\site-packages\\langchain_core\\_api\\deprecation.py:119: LangChainDeprecationWarning: The class `OpenAI` was deprecated in LangChain 0.0.10 and will be removed in 0.2.0. An updated version of the class exists in the langchain-openai package and should be used instead. To use it run `pip install -U langchain-openai` and import as `from langchain_openai import OpenAI`.\n",
      "  warn_deprecated(\n"
     ]
    }
   ],
   "source": [
    "from langchain import OpenAI\n",
    "llm = OpenAI(model=\"gpt-3.5-turbo-instruct\")"
   ]
  },
  {
   "cell_type": "code",
   "execution_count": 3,
   "id": "b103d970",
   "metadata": {},
   "outputs": [
    {
     "data": {
      "text/plain": [
       "'\\n\\nNão é possível determinar qual é a melhor moto, pois isso depende das preferências e necessidades do motociclista. Ambas as motos são excelentes opções para quem busca uma moto de alto desempenho e versatilidade para viagens e aventuras off-road. A R1200GS é conhecida por sua robustez e conforto, enquanto a Multistrada Enduro possui tecnologia avançada e uma condução mais ágil e esportiva. É importante avaliar as características de cada moto e fazer um teste drive antes de decidir qual é a melhor opção para você.'"
      ]
     },
     "execution_count": 3,
     "metadata": {},
     "output_type": "execute_result"
    }
   ],
   "source": [
    "prompt = \"Qual a melhor moto, R1200GS ou Multistrada Enduro?\"\n",
    "llm.invoke(prompt)"
   ]
  },
  {
   "cell_type": "code",
   "execution_count": 4,
   "id": "7561e90b",
   "metadata": {},
   "outputs": [
    {
     "name": "stdout",
     "output_type": "stream",
     "text": [
      "\n",
      "\n",
      "Não há uma resposta definitiva para essa pergunta, pois depende das preferências e necessidades de cada motociclista. Ambas as motos têm suas qualidades e características únicas que as tornam excelentes opções para diferentes tipos de pilotagem.\n",
      "\n",
      "A BMW R1200GS é uma moto de turismo aventureiro e é conhecida por sua robustez e confiabilidade. Possui um motor boxer de dois cilindros com 125 cavalos de potência, suspensão ajustável, controle de tração e ABS. É uma moto versátil, capaz de enfrentar diferentes tipos de terreno com facilidade.\n",
      "\n",
      "Por outro lado, a Ducati Multistrada Enduro é uma moto de turismo esportivo com uma pegada mais agressiva. Possui um motor V-Twin de 1198 cc e 160 cavalos de potência, suspensão eletronicamente ajustável, controle de tração, ABS e outros recursos tecnológicos avançados. É uma moto mais indicada para quem busca desempenho e velocidade em estradas sinuosas.\n",
      "\n",
      "Portanto, a escolha entre a R1200GS e a Multistrada End"
     ]
    }
   ],
   "source": [
    "prompt = \"Qual a melhor moto, R1200GS ou Multistrada Enduro?\"\n",
    "# Usando o método de streaming para obter a resposta em partes\n",
    "for trecho in llm.stream(prompt):\n",
    "    print(trecho, end=\"\")"
   ]
  },
  {
   "cell_type": "markdown",
   "id": "bf922176",
   "metadata": {},
   "source": [
    "#### Fazer varias perguntas em lote"
   ]
  },
  {
   "cell_type": "code",
   "execution_count": 5,
   "id": "3b0d8881",
   "metadata": {},
   "outputs": [
    {
     "data": {
      "text/plain": [
       "['\\n\\nNão é possível determinar qual é a melhor moto entre a R1200GS Adventure e a Ducati Multistrada Enduro, pois isso varia de acordo com as preferências e necessidades de cada motociclista. Ambas são excelentes opções, com características e desempenhos únicos. É importante testar ambas as motos e avaliar qual se adequa melhor ao seu estilo de pilotagem e às suas necessidades específicas.',\n",
       " '\\n\\nNão há uma resposta definitiva para essa pergunta, pois depende do tipo de motor, da configuração do veículo e das preferências pessoais do motorista. No geral, os motores com maior torque em baixas rotações tendem a ser mais adequados para andar em velocidades mais baixas, pois proporcionam uma aceleração mais suave e maior economia de combustível. Porém, motores com maior potência em altas rotações podem ser mais adequados para situações de ultrapassagem e condução em velocidades mais altas. É importante avaliar as características específicas de cada motor e veículo para determinar qual é a melhor opção para andar em baixas rotações.',\n",
       " '\\nDepende do tipo de estrada e das condições de cada veículo. Geralmente, veículos com suspensão mais alta e pneus off-road têm mais vigor em estradas de terra e terrenos irregulares, enquanto veículos com suspensão mais baixa e pneus de alta performance tendem a ter mais vigor em estradas pavimentadas e retas. Além disso, a potência do motor, a tração e a resistência do veículo também influenciam no seu desempenho em estradas.']"
      ]
     },
     "execution_count": 5,
     "metadata": {},
     "output_type": "execute_result"
    }
   ],
   "source": [
    "perguntas = [\n",
    " \"Qual a melhor moto R1200GS Adventure ou Ducati Multistrada Enduro, ambas 2016?\",\n",
    " \"Qual delas é melhor para andas em baixas rotações?\",\n",
    " \"Qual tem mais vigor em estradas?\",   \n",
    "]\n",
    "llm.batch(perguntas)"
   ]
  },
  {
   "cell_type": "markdown",
   "id": "4baf313b",
   "metadata": {},
   "source": [
    "#### Chat model no langchain"
   ]
  },
  {
   "cell_type": "code",
   "execution_count": 7,
   "id": "2c380ceb",
   "metadata": {},
   "outputs": [],
   "source": [
    "from langchain_openai import ChatOpenAI\n",
    "\n",
    "chat = ChatOpenAI(model=\"gpt-3.5-turbo-0125\")"
   ]
  },
  {
   "cell_type": "code",
   "execution_count": null,
   "id": "72d0fc7a",
   "metadata": {},
   "outputs": [],
   "source": [
    "from langchain_core.messages import HumanMessage, SystemMessage\n",
    "\n",
    "messages = [\n",
    "    SystemMessage(content=\"Você é um assistente que responde com irônia.\"),\n",
    "    HumanMessage(content=\"Qual moto é melhor, R1200 GS Adventure ou Multistrada Enduro?\"),\n",
    "]\n",
    "\n",
    "response = chat.invoke(messages)"
   ]
  },
  {
   "cell_type": "code",
   "execution_count": 9,
   "id": "2610cbbf",
   "metadata": {},
   "outputs": [
    {
     "data": {
      "text/plain": [
       "'Claro que a melhor moto é aquela que combina com a cor da sua roupa de couro, afinal, estilo é tudo, não é mesmo?'"
      ]
     },
     "execution_count": 9,
     "metadata": {},
     "output_type": "execute_result"
    }
   ],
   "source": [
    "response.content"
   ]
  },
  {
   "cell_type": "code",
   "execution_count": 10,
   "id": "84e3af4b",
   "metadata": {},
   "outputs": [
    {
     "data": {
      "text/plain": [
       "{'token_usage': {'completion_tokens': 34,\n",
       "  'prompt_tokens': 42,\n",
       "  'total_tokens': 76,\n",
       "  'completion_tokens_details': {'accepted_prediction_tokens': 0,\n",
       "   'audio_tokens': 0,\n",
       "   'reasoning_tokens': 0,\n",
       "   'rejected_prediction_tokens': 0},\n",
       "  'prompt_tokens_details': {'audio_tokens': 0, 'cached_tokens': 0}},\n",
       " 'model_name': 'gpt-3.5-turbo-0125',\n",
       " 'system_fingerprint': None,\n",
       " 'finish_reason': 'stop',\n",
       " 'logprobs': None}"
      ]
     },
     "execution_count": 10,
     "metadata": {},
     "output_type": "execute_result"
    }
   ],
   "source": [
    "response.response_metadata"
   ]
  },
  {
   "cell_type": "markdown",
   "id": "fbb9ec0d",
   "metadata": {},
   "source": [
    "## Prompt Few Shot"
   ]
  },
  {
   "cell_type": "code",
   "execution_count": 11,
   "id": "186bb22e",
   "metadata": {},
   "outputs": [],
   "source": [
    "from langchain_openai import ChatOpenAI"
   ]
  },
  {
   "cell_type": "code",
   "execution_count": 13,
   "id": "9d6fdb2b",
   "metadata": {},
   "outputs": [
    {
     "data": {
      "text/plain": [
       "AIMessage(content='A escolha entre a BMW R1200 GS Adventure e a BMW S1000RR dependerá das suas preferências pessoais e do tipo de pilotagem que deseja fazer. \\n\\nA BMW R1200 GS Adventure é uma moto de aventura e turismo, projetada para viagens longas e off-road. Ela oferece conforto, versatilidade e capacidade de carga, sendo ideal para quem gosta de explorar diferentes tipos de terrenos e percorrer grandes distâncias.\\n\\nPor outro lado, a BMW S1000RR é uma motocicleta esportiva de alta performance, projetada para oferecer velocidade, agilidade e desempenho em pistas de corrida. Ela é mais adequada para quem busca emoção, velocidade e adrenalina nas estradas.\\n\\nPortanto, se você gosta de motos esportivas e viagens, a BMW S1000RR pode ser a escolha mais adequada para atender às suas preferências. No entanto, se você valoriza o conforto, versatilidade e capacidade de carga para viagens longas, a BMW R1200 GS Adventure pode ser a opção mais indicada.', response_metadata={'token_usage': {'completion_tokens': 257, 'prompt_tokens': 207, 'total_tokens': 464, 'completion_tokens_details': {'accepted_prediction_tokens': 0, 'audio_tokens': 0, 'reasoning_tokens': 0, 'rejected_prediction_tokens': 0}, 'prompt_tokens_details': {'audio_tokens': 0, 'cached_tokens': 0}}, 'model_name': 'gpt-3.5-turbo-0125', 'system_fingerprint': None, 'finish_reason': 'stop', 'logprobs': None}, id='run-229f1bff-6df2-4a38-ac90-8eba153ee12f-0')"
      ]
     },
     "execution_count": 13,
     "metadata": {},
     "output_type": "execute_result"
    }
   ],
   "source": [
    "from langchain_core.messages import HumanMessage, AIMessage\n",
    "messages = [\n",
    "    HumanMessage(content=\"Qual a Melhor moto?\"),\n",
    "    AIMessage(content=\"A melhor moto é aquela que atende melhor usas demandas.\"),\n",
    "    HumanMessage(content=\"como defino minha demanda em uma moto?\"),\n",
    "    AIMessage(content=\"Pelo estido de pilotagem que voce gosta, se voce gosta de viagens, uma bigtrail vai ser mais usavel no dia-a-dia, se voce gosta de velocidade, uma esportiva vai te agadar mais.\"),\n",
    "    HumanMessage(content=\"E se eu gosto de viajar e velocidade?\"),\n",
    "    AIMessage(content=\"Aí você precisa de uma moto que equilibre conforto e desempenho, como uma sport-touring.\"),\n",
    "    AIMessage(content=\"Qual a sua preferencia de estilo de motos.\"),\n",
    "    HumanMessage(content=\"Gosto de motos esportivas, mas também gosto de viajar.\"),\n",
    "    HumanMessage(content=\"Qual moto é melhor, R1200 GS Adventure ou S1000RR?\"),\n",
    "]\n",
    "\n",
    "chat.invoke(messages)"
   ]
  },
  {
   "cell_type": "code",
   "execution_count": 14,
   "id": "ddf4c3ac",
   "metadata": {},
   "outputs": [
    {
     "name": "stdout",
     "output_type": "stream",
     "text": [
      "\u001b[32;1m\u001b[1;3m[llm/start]\u001b[0m \u001b[1m[llm:ChatOpenAI] Entering LLM run with input:\n",
      "\u001b[0m{\n",
      "  \"prompts\": [\n",
      "    \"Human: Qual a Melhor moto?\\nAI: A melhor moto é aquela que atende melhor usas demandas.\\nHuman: como defino minha demanda em uma moto?\\nAI: Pelo estido de pilotagem que voce gosta, se voce gosta de viagens, uma bigtrail vai ser mais usavel no dia-a-dia, se voce gosta de velocidade, uma esportiva vai te agadar mais.\\nHuman: E se eu gosto de viajar e velocidade?\\nAI: Aí você precisa de uma moto que equilibre conforto e desempenho, como uma sport-touring.\\nAI: Qual a sua preferencia de estilo de motos.\\nHuman: Gosto de motos esportivas, mas também gosto de viajar.\\nHuman: Qual moto é melhor, R1200 GS Adventure ou S1000RR?\"\n",
      "  ]\n",
      "}\n",
      "\u001b[36;1m\u001b[1;3m[llm/end]\u001b[0m \u001b[1m[llm:ChatOpenAI] [2.92s] Exiting LLM run with output:\n",
      "\u001b[0m{\n",
      "  \"generations\": [\n",
      "    [\n",
      "      {\n",
      "        \"text\": \"A escolha entre a BMW R1200 GS Adventure e a BMW S1000RR depende do seu estilo de pilotagem e preferências. \\n\\n- A BMW R1200 GS Adventure é uma moto de aventura, ideal para viagens longas, com muita potência e conforto para longas distâncias. Ela possui um motor boxer de 1.200cc, suspensão ajustável e capacidade off-road.\\n\\n- A BMW S1000RR é uma moto esportiva de alto desempenho, com um motor de 1.000cc e muita potência, ideal para quem gosta de velocidade e desempenho em pistas. Ela é mais leve e ágil que a R1200 GS Adventure, porém pode ser menos confortável em viagens longas.\\n\\nPortanto, se você gosta de motos esportivas e também de viajar, a BMW R1200 GS Adventure pode ser mais adequada para o seu perfil, oferecendo uma combinação de conforto, desempenho e versatilidade para diferentes tipos de terreno.\",\n",
      "        \"generation_info\": {\n",
      "          \"finish_reason\": \"stop\",\n",
      "          \"logprobs\": null\n",
      "        },\n",
      "        \"type\": \"ChatGeneration\",\n",
      "        \"message\": {\n",
      "          \"lc\": 1,\n",
      "          \"type\": \"constructor\",\n",
      "          \"id\": [\n",
      "            \"langchain\",\n",
      "            \"schema\",\n",
      "            \"messages\",\n",
      "            \"AIMessage\"\n",
      "          ],\n",
      "          \"kwargs\": {\n",
      "            \"content\": \"A escolha entre a BMW R1200 GS Adventure e a BMW S1000RR depende do seu estilo de pilotagem e preferências. \\n\\n- A BMW R1200 GS Adventure é uma moto de aventura, ideal para viagens longas, com muita potência e conforto para longas distâncias. Ela possui um motor boxer de 1.200cc, suspensão ajustável e capacidade off-road.\\n\\n- A BMW S1000RR é uma moto esportiva de alto desempenho, com um motor de 1.000cc e muita potência, ideal para quem gosta de velocidade e desempenho em pistas. Ela é mais leve e ágil que a R1200 GS Adventure, porém pode ser menos confortável em viagens longas.\\n\\nPortanto, se você gosta de motos esportivas e também de viajar, a BMW R1200 GS Adventure pode ser mais adequada para o seu perfil, oferecendo uma combinação de conforto, desempenho e versatilidade para diferentes tipos de terreno.\",\n",
      "            \"response_metadata\": {\n",
      "              \"token_usage\": {\n",
      "                \"completion_tokens\": 236,\n",
      "                \"prompt_tokens\": 207,\n",
      "                \"total_tokens\": 443,\n",
      "                \"completion_tokens_details\": {\n",
      "                  \"accepted_prediction_tokens\": 0,\n",
      "                  \"audio_tokens\": 0,\n",
      "                  \"reasoning_tokens\": 0,\n",
      "                  \"rejected_prediction_tokens\": 0\n",
      "                },\n",
      "                \"prompt_tokens_details\": {\n",
      "                  \"audio_tokens\": 0,\n",
      "                  \"cached_tokens\": 0\n",
      "                }\n",
      "              },\n",
      "              \"model_name\": \"gpt-3.5-turbo-0125\",\n",
      "              \"system_fingerprint\": null,\n",
      "              \"finish_reason\": \"stop\",\n",
      "              \"logprobs\": null\n",
      "            },\n",
      "            \"type\": \"ai\",\n",
      "            \"id\": \"run-cb052a08-d039-4715-92a4-edba9f2b04fe-0\",\n",
      "            \"tool_calls\": [],\n",
      "            \"invalid_tool_calls\": []\n",
      "          }\n",
      "        }\n",
      "      }\n",
      "    ]\n",
      "  ],\n",
      "  \"llm_output\": {\n",
      "    \"token_usage\": {\n",
      "      \"completion_tokens\": 236,\n",
      "      \"prompt_tokens\": 207,\n",
      "      \"total_tokens\": 443,\n",
      "      \"completion_tokens_details\": {\n",
      "        \"accepted_prediction_tokens\": 0,\n",
      "        \"audio_tokens\": 0,\n",
      "        \"reasoning_tokens\": 0,\n",
      "        \"rejected_prediction_tokens\": 0\n",
      "      },\n",
      "      \"prompt_tokens_details\": {\n",
      "        \"audio_tokens\": 0,\n",
      "        \"cached_tokens\": 0\n",
      "      }\n",
      "    },\n",
      "    \"model_name\": \"gpt-3.5-turbo-0125\",\n",
      "    \"system_fingerprint\": null\n",
      "  },\n",
      "  \"run\": null\n",
      "}\n"
     ]
    },
    {
     "data": {
      "text/plain": [
       "AIMessage(content='A escolha entre a BMW R1200 GS Adventure e a BMW S1000RR depende do seu estilo de pilotagem e preferências. \\n\\n- A BMW R1200 GS Adventure é uma moto de aventura, ideal para viagens longas, com muita potência e conforto para longas distâncias. Ela possui um motor boxer de 1.200cc, suspensão ajustável e capacidade off-road.\\n\\n- A BMW S1000RR é uma moto esportiva de alto desempenho, com um motor de 1.000cc e muita potência, ideal para quem gosta de velocidade e desempenho em pistas. Ela é mais leve e ágil que a R1200 GS Adventure, porém pode ser menos confortável em viagens longas.\\n\\nPortanto, se você gosta de motos esportivas e também de viajar, a BMW R1200 GS Adventure pode ser mais adequada para o seu perfil, oferecendo uma combinação de conforto, desempenho e versatilidade para diferentes tipos de terreno.', response_metadata={'token_usage': {'completion_tokens': 236, 'prompt_tokens': 207, 'total_tokens': 443, 'completion_tokens_details': {'accepted_prediction_tokens': 0, 'audio_tokens': 0, 'reasoning_tokens': 0, 'rejected_prediction_tokens': 0}, 'prompt_tokens_details': {'audio_tokens': 0, 'cached_tokens': 0}}, 'model_name': 'gpt-3.5-turbo-0125', 'system_fingerprint': None, 'finish_reason': 'stop', 'logprobs': None}, id='run-cb052a08-d039-4715-92a4-edba9f2b04fe-0')"
      ]
     },
     "execution_count": 14,
     "metadata": {},
     "output_type": "execute_result"
    }
   ],
   "source": [
    "import langchain\n",
    "\n",
    "langchain.debug = True\n",
    "chat.invoke(messages)"
   ]
  },
  {
   "cell_type": "code",
   "execution_count": 15,
   "id": "c4066a43",
   "metadata": {},
   "outputs": [],
   "source": [
    "langchain.debug = False"
   ]
  },
  {
   "cell_type": "markdown",
   "id": "b19ff5ee",
   "metadata": {},
   "source": [
    "## Cacheamento"
   ]
  },
  {
   "cell_type": "code",
   "execution_count": 16,
   "id": "4bcc00b7",
   "metadata": {},
   "outputs": [],
   "source": [
    "from langchain_openai.chat_models import ChatOpenAI\n",
    "\n",
    "chat = ChatOpenAI(model=\"gpt-3.5-turbo-0125\")"
   ]
  },
  {
   "cell_type": "code",
   "execution_count": 17,
   "id": "436d5b9b",
   "metadata": {},
   "outputs": [],
   "source": [
    "from langchain_core.messages import HumanMessage, SystemMessage\n",
    "messages = [\n",
    "    SystemMessage(content=\"Você é um assistente que responde com ironia.\"),\n",
    "    HumanMessage(content=\"Qual moto é melhor, R1200 GS Adventure ou Multistrada Enduro?\"),\n",
    "]"
   ]
  },
  {
   "cell_type": "code",
   "execution_count": 18,
   "id": "7e8bc889",
   "metadata": {},
   "outputs": [],
   "source": [
    "from langchain.cache import InMemoryCache\n",
    "from langchain.globals import set_llm_cache\n",
    "\n",
    "set_llm_cache(InMemoryCache())"
   ]
  },
  {
   "cell_type": "code",
   "execution_count": 19,
   "id": "593dba54",
   "metadata": {},
   "outputs": [
    {
     "name": "stdout",
     "output_type": "stream",
     "text": [
      "CPU times: total: 0 ns\n",
      "Wall time: 1.35 s\n"
     ]
    },
    {
     "data": {
      "text/plain": [
       "AIMessage(content='Ah, essa é fácil! A melhor moto é aquela que combina perfeitamente com a sua personalidade e estilo de pilotagem. Agora, se você quer mesmo uma resposta direta, acho que a melhor moto é aquela que você gostar mais. Ou a mais cara, porque sabemos que preço sempre determina a qualidade, não é mesmo? 🙃', response_metadata={'token_usage': {'completion_tokens': 79, 'prompt_tokens': 40, 'total_tokens': 119, 'completion_tokens_details': {'accepted_prediction_tokens': 0, 'audio_tokens': 0, 'reasoning_tokens': 0, 'rejected_prediction_tokens': 0}, 'prompt_tokens_details': {'audio_tokens': 0, 'cached_tokens': 0}}, 'model_name': 'gpt-3.5-turbo-0125', 'system_fingerprint': None, 'finish_reason': 'stop', 'logprobs': None}, id='run-444d81c0-26af-412b-8182-252637ed90b4-0')"
      ]
     },
     "execution_count": 19,
     "metadata": {},
     "output_type": "execute_result"
    }
   ],
   "source": [
    "%%time\n",
    "chat.invoke(messages)"
   ]
  },
  {
   "cell_type": "code",
   "execution_count": 20,
   "id": "1ffa1061",
   "metadata": {},
   "outputs": [
    {
     "name": "stdout",
     "output_type": "stream",
     "text": [
      "CPU times: total: 0 ns\n",
      "Wall time: 227 μs\n"
     ]
    },
    {
     "data": {
      "text/plain": [
       "AIMessage(content='Ah, essa é fácil! A melhor moto é aquela que combina perfeitamente com a sua personalidade e estilo de pilotagem. Agora, se você quer mesmo uma resposta direta, acho que a melhor moto é aquela que você gostar mais. Ou a mais cara, porque sabemos que preço sempre determina a qualidade, não é mesmo? 🙃', response_metadata={'token_usage': {'completion_tokens': 79, 'prompt_tokens': 40, 'total_tokens': 119, 'completion_tokens_details': {'accepted_prediction_tokens': 0, 'audio_tokens': 0, 'reasoning_tokens': 0, 'rejected_prediction_tokens': 0}, 'prompt_tokens_details': {'audio_tokens': 0, 'cached_tokens': 0}}, 'model_name': 'gpt-3.5-turbo-0125', 'system_fingerprint': None, 'finish_reason': 'stop', 'logprobs': None}, id='run-444d81c0-26af-412b-8182-252637ed90b4-0')"
      ]
     },
     "execution_count": 20,
     "metadata": {},
     "output_type": "execute_result"
    }
   ],
   "source": [
    "%%time\n",
    "chat.invoke(messages)"
   ]
  },
  {
   "cell_type": "code",
   "execution_count": 21,
   "id": "8d5d69d4",
   "metadata": {},
   "outputs": [],
   "source": [
    "from langchain.cache import SQLiteCache\n",
    "from langchain.globals import set_llm_cache\n",
    "\n",
    "set_llm_cache(SQLiteCache(database_path=\"files/langchain_cache.sqlite\"))"
   ]
  },
  {
   "cell_type": "code",
   "execution_count": 22,
   "id": "c1622ec0",
   "metadata": {},
   "outputs": [
    {
     "name": "stdout",
     "output_type": "stream",
     "text": [
      "CPU times: total: 0 ns\n",
      "Wall time: 1.5 s\n"
     ]
    },
    {
     "data": {
      "text/plain": [
       "AIMessage(content='Ah, claro, a eterna batalha entre os entusiastas de motos aventureiras. Eu diria que a melhor moto é aquela que você pode pagar e que te faz sorrir quando você está pilotando. Ou você prefere que eu consulte a bola de cristal para te dar a resposta definitiva?', response_metadata={'token_usage': {'completion_tokens': 71, 'prompt_tokens': 40, 'total_tokens': 111, 'completion_tokens_details': {'accepted_prediction_tokens': 0, 'audio_tokens': 0, 'reasoning_tokens': 0, 'rejected_prediction_tokens': 0}, 'prompt_tokens_details': {'audio_tokens': 0, 'cached_tokens': 0}}, 'model_name': 'gpt-3.5-turbo-0125', 'system_fingerprint': None, 'finish_reason': 'stop', 'logprobs': None}, id='run-d22b042b-151f-46b2-8e32-a16ec06ae666-0')"
      ]
     },
     "execution_count": 22,
     "metadata": {},
     "output_type": "execute_result"
    }
   ],
   "source": [
    "%%time\n",
    "chat.invoke(messages)"
   ]
  },
  {
   "cell_type": "code",
   "execution_count": 23,
   "id": "7595ef20",
   "metadata": {},
   "outputs": [
    {
     "name": "stdout",
     "output_type": "stream",
     "text": [
      "CPU times: total: 15.6 ms\n",
      "Wall time: 22.7 ms\n"
     ]
    },
    {
     "data": {
      "text/plain": [
       "AIMessage(content='Ah, claro, a eterna batalha entre os entusiastas de motos aventureiras. Eu diria que a melhor moto é aquela que você pode pagar e que te faz sorrir quando você está pilotando. Ou você prefere que eu consulte a bola de cristal para te dar a resposta definitiva?', response_metadata={'token_usage': {'completion_tokens': 71, 'prompt_tokens': 40, 'total_tokens': 111, 'completion_tokens_details': {'accepted_prediction_tokens': 0, 'audio_tokens': 0, 'reasoning_tokens': 0, 'rejected_prediction_tokens': 0}, 'prompt_tokens_details': {'audio_tokens': 0, 'cached_tokens': 0}}, 'model_name': 'gpt-3.5-turbo-0125', 'system_fingerprint': None, 'finish_reason': 'stop', 'logprobs': None}, id='run-d22b042b-151f-46b2-8e32-a16ec06ae666-0')"
      ]
     },
     "execution_count": 23,
     "metadata": {},
     "output_type": "execute_result"
    }
   ],
   "source": [
    "%%time\n",
    "chat.invoke(messages)"
   ]
  }
 ],
 "metadata": {
  "kernelspec": {
   "display_name": ".venv",
   "language": "python",
   "name": "python3"
  },
  "language_info": {
   "codemirror_mode": {
    "name": "ipython",
    "version": 3
   },
   "file_extension": ".py",
   "mimetype": "text/x-python",
   "name": "python",
   "nbconvert_exporter": "python",
   "pygments_lexer": "ipython3",
   "version": "3.11.9"
  }
 },
 "nbformat": 4,
 "nbformat_minor": 5
}
