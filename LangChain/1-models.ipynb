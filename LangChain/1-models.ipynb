{
 "cells": [
  {
   "cell_type": "code",
   "execution_count": 1,
   "id": "f8ad0d13",
   "metadata": {},
   "outputs": [
    {
     "name": "stderr",
     "output_type": "stream",
     "text": [
      "c:\\Users\\André Bueno\\Desktop\\Github\\AI_AGENTS\\LangChain\\.venv\\Lib\\site-packages\\langchain_core\\_api\\deprecation.py:119: LangChainDeprecationWarning: The class `OpenAI` was deprecated in LangChain 0.0.10 and will be removed in 0.2.0. An updated version of the class exists in the langchain-openai package and should be used instead. To use it run `pip install -U langchain-openai` and import as `from langchain_openai import OpenAI`.\n",
      "  warn_deprecated(\n"
     ]
    }
   ],
   "source": [
    "from langchain import OpenAI\n",
    "llm = OpenAI(model=\"gpt-3.5-turbo-instruct\")"
   ]
  },
  {
   "cell_type": "code",
   "execution_count": 2,
   "id": "b103d970",
   "metadata": {},
   "outputs": [
    {
     "data": {
      "text/plain": [
       "'\\n\\nEra uma vez um jovem estudante chamado Pedro, que sempre foi fascinado por tecnologia e ciência. Desde criança, ele sonhava em criar máquinas inteligentes que pudessem ajudar as pessoas em diversas tarefas. Por isso, assim que entrou na universidade, decidiu se especializar em aprendizado de máquina.\\n\\nNo início, Pedro tinha dificuldades em entender os conceitos e algoritmos complexos dessa área da computação. Mas, com o tempo e muita dedicação, ele foi se aprofundando no assunto e começou a ver sua paixão se tornar realidade.\\n\\nCom o apoio de seus professores e colegas, Pedro mergulhou de cabeça nos estudos e projetos de aprendizado de máquina. Ele aprendeu sobre diferentes tipos de algoritmos, como o aprendizado supervisionado e o não supervisionado, e como eles eram aplicados em diversas áreas, como finanças, saúde, comércio e até mesmo em jogos.\\n\\nCerto dia, Pedro teve a oportunidade de participar de um projeto de pesquisa avançada em uma grande empresa de tecnologia. Ele'"
      ]
     },
     "execution_count": 2,
     "metadata": {},
     "output_type": "execute_result"
    }
   ],
   "source": [
    "prompt = \"conte uma hisotoria sobre aprendizado de maquina\"\n",
    "llm.invoke(prompt)"
   ]
  }
 ],
 "metadata": {
  "kernelspec": {
   "display_name": ".venv",
   "language": "python",
   "name": "python3"
  },
  "language_info": {
   "codemirror_mode": {
    "name": "ipython",
    "version": 3
   },
   "file_extension": ".py",
   "mimetype": "text/x-python",
   "name": "python",
   "nbconvert_exporter": "python",
   "pygments_lexer": "ipython3",
   "version": "3.11.9"
  }
 },
 "nbformat": 4,
 "nbformat_minor": 5
}
