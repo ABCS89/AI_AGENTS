{
 "cells": [
  {
   "cell_type": "code",
   "execution_count": null,
   "id": "97a606f5",
   "metadata": {},
   "outputs": [],
   "source": [
    "from langchain.memory import ConversationBufferMemory\n",
    "\n",
    "memory = ConversationBufferMemory(return_messages=True)\n",
    "memory.chat_memory.add_user_message(\"Olá!\")\n",
    "memory.chat_memory.add_ai_message(\"Como vai você?\")"
   ]
  },
  {
   "cell_type": "code",
   "execution_count": null,
   "id": "c7a1eb44",
   "metadata": {},
   "outputs": [],
   "source": [
    "memory.load_memory_variables({})  # This will return the conversation history\n",
    "# Output: [{'role': 'user', 'content': 'Olá!'}, {'role': 'assistant', 'content': 'Como vai você?'}]"
   ]
  },
  {
   "cell_type": "code",
   "execution_count": null,
   "id": "e48ec1e0",
   "metadata": {},
   "outputs": [],
   "source": [
    "from langchain_openai.chat_models import ChatOpenAI\n",
    "from langchain.chains.conversation.base import ConversationChain\n",
    "\n",
    "chat = ChatOpenAI()\n",
    "memory = ConversationBufferMemory()\n",
    "conversation = ConversationChain(\n",
    "    llm=chat,\n",
    "    memory=memory,\n",
    "    verbose=True,\n",
    ")\n"
   ]
  },
  {
   "cell_type": "code",
   "execution_count": null,
   "id": "8817a9ed",
   "metadata": {},
   "outputs": [],
   "source": [
    "conversation.predict(input=\"Olá, Meu nome é Buster Scruggs!\")"
   ]
  },
  {
   "cell_type": "code",
   "execution_count": null,
   "id": "589a2793",
   "metadata": {},
   "outputs": [],
   "source": [
    "conversation.predict(input=\"como vai voce?\")\n",
    "# Output: \"Olá! Como posso ajudar você hoje?\""
   ]
  },
  {
   "cell_type": "code",
   "execution_count": null,
   "id": "ae5e8ae1",
   "metadata": {},
   "outputs": [],
   "source": [
    "conversation.predict(input=\"Qual o meu nome?\")"
   ]
  },
  {
   "cell_type": "code",
   "execution_count": null,
   "id": "02bf77ca",
   "metadata": {},
   "outputs": [],
   "source": [
    "conversation.predict(input=\"pode me trazer a ficha tecnica da R1250 GS?\")"
   ]
  },
  {
   "cell_type": "code",
   "execution_count": null,
   "id": "3870e41b",
   "metadata": {},
   "outputs": [],
   "source": [
    "conversation.predict(input=\"e qual a diferença entre ela e a R1200GS Adventure?\")"
   ]
  },
  {
   "cell_type": "code",
   "execution_count": null,
   "id": "7b9f76b5",
   "metadata": {},
   "outputs": [],
   "source": [
    "conversation.predict(input=\"me de mais detalhes das 2 motos, por favor.\")"
   ]
  }
 ],
 "metadata": {
  "kernelspec": {
   "display_name": ".venv",
   "language": "python",
   "name": "python3"
  },
  "language_info": {
   "codemirror_mode": {
    "name": "ipython",
    "version": 3
   },
   "file_extension": ".py",
   "mimetype": "text/x-python",
   "name": "python",
   "nbconvert_exporter": "python",
   "pygments_lexer": "ipython3",
   "version": "3.11.9"
  }
 },
 "nbformat": 4,
 "nbformat_minor": 5
}
